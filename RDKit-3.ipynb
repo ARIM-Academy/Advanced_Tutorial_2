{
 "cells": [
  {
   "cell_type": "markdown",
   "id": "d52cd5f8-3c9a-4df9-80a8-b205cf61a1a5",
   "metadata": {},
   "source": [
    "<img src=\"./img/img-3.png\"><br> "
   ]
  },
  {
   "cell_type": "markdown",
   "id": "a72605dd",
   "metadata": {},
   "source": [
    "## データセット\n",
    "<div style=\"border:1px solid #000; padding:10px;\">\n",
    "量子化学計算を行う前の準備として、分子構造のコンフォーマー探索を行い、安定な構造骨格を得る必要があります。本手法では、RDKitライブラリによる力場計算（UFFまたはMMFF[1]）を用いてコンフォーマーを探索し、最も安定な構造を基に、Gaussian用の入力ファイル（.gjf）、psi4用の.xyzファイル、あるいはmol形式のファイルとして出力します。\n",
    "\n",
    "\n",
    "[1] Tosco, P., Stiefl, N. & Landrum, G. *Bringing the MMFF force field to the RDKit: implementation and validation.* J Cheminform **6**, 37 (2014). https://doi.org/10.1186/s13321-014-0037-3  \n",
    "\n",
    "---\n",
    "\n",
    "## RDKitで扱えるUFFおよびMMFFの分子力場について\n",
    "\n",
    "### **Universal Force Field (UFF)**  \n",
    "Universal Force Field（UFF）はコロラド州立大学にて開発された汎用分子力場であり、アクチノイドを含む周期表全元素に対してパラメータが定義されている点に特長があります。元素については横断的な適用性を有するため、広範な分子系に対して構造最適化やコンフォーマー探索を可能とします。一方で、特に金属錯体や無機化合物においては、経験的パラメータの精度や実験データとの整合性に課題があり、定量的な信頼性には限界があります。\n",
    "\n",
    "### **Merck Molecular Force Field (MMFF)**    \n",
    "Merck Molecular Force Field（MMFF）は、Merck Research Laboratories によって開発された分子力場であり、従来の MM3 力場の設計思想を継承・発展させたものです。MMFF は有機分子全般に対して高い再現性と精度を発揮するように設計されていることに特長があります。一方で、下記の「MMFFのコンフォーマー生成における留意点 」にあるような、分子構造によっては計算に困難を伴うことがあります。\n",
    "\n",
    "### MMFFのコンフォーマー生成における留意点  \n",
    "以下に示す構造的特徴を有する分子は、MMFFに基づく構造最適化およびコンフォーマー生成において困難を伴うことがあります。\n",
    "\n",
    "- **長鎖アルキル基**  \n",
    "  十分な柔軟性を持つ長鎖アルキル基は、多数の回転異性体を生み出しうるため、コンフォーマー空間が極めて広大となり、探索アルゴリズムの収束に時間を要することがあります。\n",
    "  \n",
    "- **複雑な縮合環系**  \n",
    "  多環芳香族や縮合複素環を有する分子は、構造の剛直性が高く、コンフォーマー空間が限られるため、探索効率が低下する傾向があります。\n",
    "\n",
    "- **嵩高い置換基の存在**  \n",
    "  イソプロピル基やトリフルオロメチル基といった立体的にかさばる置換基は、コンフォーマー生成アルゴリズムにおいて不自然な衝突やコンフォーマーの収束失敗を引き起こす要因となります。\n",
    "\n",
    "- **電荷を有する官能基**  \n",
    "  正電荷を有する四級アンモニウム（[N+]）、負電荷を有するボロネートアニオン（[B-]）などの存在は、静電ポテンシャル場の形成に大きく影響し、構造最適化の収束を妨げる可能性があります。\n",
    "\n",
    "- **ボロン (B) を含む構造**  \n",
    "  ボロンは多様な配位数と結合様式を示し、MMFFとの整合性が乏しい場合があります。特に、ボロンに窒素や芳香環が直接結合している構造では、立体的拘束が大きく、初期構造生成に失敗することがあります。\n",
    "\n",
    "- **ボロン-窒素 (B–N) 結合環**  \n",
    "  一部の分子においては、B–N結合を含む芳香族様の環構造が確認されており、電子的特性や結合の特殊性が力場のパラメータ化と整合しない可能性がある。\n",
    "  \n",
    "---"
   ]
  },
  {
   "cell_type": "markdown",
   "id": "bb7a373d-db24-482c-b9fc-41e55f7a4439",
   "metadata": {},
   "source": [
    "### 教材への接続\n",
    "google colabにおけるオンラインの場合にこのラインを実行します。（<font color=\"red\">Google colabに接続しない場合には不要</font>）"
   ]
  },
  {
   "cell_type": "code",
   "execution_count": null,
   "id": "00c2b617-ede8-4563-807a-58dc0c60f84c",
   "metadata": {},
   "outputs": [],
   "source": [
    "!pip install rdkit\n",
    "!git clone https://github.com/ARIM-Academy/Advanced_Tutorial_2.git\n",
    "%cd Advanced_Tutorial_2"
   ]
  },
  {
   "cell_type": "markdown",
   "id": "a0a7516d",
   "metadata": {},
   "source": [
    "### ライブラリのインポート\n",
    "RDkitでコンフォーマーサーチを行うためのpythonのライブラリをimport文でロードします。"
   ]
  },
  {
   "cell_type": "code",
   "execution_count": 1,
   "id": "878e2fd9",
   "metadata": {},
   "outputs": [],
   "source": [
    "#汎用ライブラリ\n",
    "import glob, os\n",
    "import pandas as pd\n",
    "import traceback\n",
    "\n",
    "#コンフォーマー用\n",
    "from rdkit import Chem\n",
    "from rdkit.Chem import AllChem\n",
    "\n",
    "# オリジナルモジュール\n",
    "from util import *\n",
    "\n",
    "import warnings\n",
    "warnings.filterwarnings('ignore')"
   ]
  },
  {
   "cell_type": "code",
   "execution_count": 2,
   "id": "470007db",
   "metadata": {},
   "outputs": [],
   "source": [
    "# 初期設定\n",
    "confs = 1000        # コンフォーマーの発生数\n",
    "rms = 2.0           # 類似した構造を排除する枝刈りのレベルの設定\n",
    "pickup = 1          # コンフォーマーの選択数\n",
    "forcefield = \"uff\"  # UFF (Universal Force Field)  または MMFF（Merck Molecular Force Field、メルク分子力場）\n",
    "\n",
    "#出力フォルダ\n",
    "output_dir = \"output\"\n",
    "os.makedirs(output_dir, exist_ok=True)\n",
    "\n",
    "# エラーログフォルダ\n",
    "error_dir = \"error_log\"\n",
    "os.makedirs(error_dir, exist_ok=True)\n",
    "\n",
    "# エラーとなった骨格を記録するリスト\n",
    "failed_molecules = []"
   ]
  },
  {
   "cell_type": "markdown",
   "id": "7e2bdbea",
   "metadata": {},
   "source": [
    "## 1.データセットの読み込み\n",
    "### SMILESファイルの読み込み\n",
    "化合物のデータセットを読み込み、各化合物のID情報とSMILES表記を取得し、これから行う分子のコンフォーマー生成や力場計算の準備をします。まず、pandasライブラリのread_csv()関数は、SMILESが記載されているCSVファイルを読み込んでpandasのDataFrame形式に変換する関数です。ここでは、[data]フォルダ内に保存されている.csvファイルをDataFrameとして読み込み、その結果をdfという変数に格納します。"
   ]
  },
  {
   "cell_type": "code",
   "execution_count": 3,
   "id": "48ba15f9",
   "metadata": {},
   "outputs": [],
   "source": [
    "# --- 分子情報の読み込み ---\n",
    "df = pd.read_csv('data/smiles_10.csv')\n",
    "labels = df[\"ID\"]\n",
    "smiles_list = df[\"SMILES\"]"
   ]
  },
  {
   "cell_type": "code",
   "execution_count": 4,
   "id": "6563d756",
   "metadata": {},
   "outputs": [],
   "source": [
    "smiles_list [0]\n",
    "mol = Chem.MolFromSmiles(smiles_list [0])"
   ]
  },
  {
   "cell_type": "markdown",
   "id": "383b5a63",
   "metadata": {},
   "source": [
    "## 2.コンフォーマー生成\n",
    "RDKit を使って、分子に対して複数のコンフォーマー（立体配座）を生成し、それらを最適化してエネルギーの低い順に並べるユーザー関数を定義します。最もエネルギーの低い構造を基準にして、**相対エネルギー**として返します。返り値は (相対エネルギー, コンフォーマーID)のリスト構造です。"
   ]
  },
  {
   "cell_type": "code",
   "execution_count": 6,
   "id": "f7a66f51",
   "metadata": {},
   "outputs": [],
   "source": [
    "# コンフォーマー生成\n",
    "def opt_conformers(mol, forcefield):\n",
    "    try:\n",
    "        cids = AllChem.EmbedMultipleConfs(mol, \n",
    "                                        numConfs = confs, \n",
    "                                        pruneRmsThresh = rms, \n",
    "                                        randomSeed = 1234\n",
    "                                        )\n",
    "        \n",
    "        # コンフォーマ生成に失敗した場合\n",
    "        if len(cids) == 0:\n",
    "            return None\n",
    "            \n",
    "        energies = []\n",
    "        \n",
    "        if forcefield == 'uff':\n",
    "            for cid in cids:\n",
    "                ff = AllChem.UFFGetMoleculeForceField(mol, confId=cid)\n",
    "                ff.Minimize()\n",
    "                energies.append((ff.CalcEnergy(), cid))\n",
    "\n",
    "        elif forcefield == 'mmff':\n",
    "            props = AllChem.MMFFGetMoleculeProperties(mol)\n",
    "            if props is None:  # MMFFプロパティが取得できない場合\n",
    "                return None\n",
    "                \n",
    "            for cid in cids:\n",
    "                ff = AllChem.MMFFGetMoleculeForceField(mol, props, confId=cid)\n",
    "                ff.Minimize()\n",
    "                energies.append((ff.CalcEnergy(), cid))\n",
    "        \n",
    "        energies.sort()\n",
    "        \n",
    "        return [(e - energies[0][0], cid) for e, cid in energies]\n",
    "    except Exception as e:\n",
    "        return None"
   ]
  },
  {
   "cell_type": "markdown",
   "id": "79015278",
   "metadata": {},
   "source": [
    "### 【解説】\n",
    "`EmbedMultipleConfs()` は分子に複数の 3D 構造（コンフォーマー）を埋め込むメソッド（関数）です。\n",
    "```python\n",
    "cids = AllChem.EmbedMultipleConfs(mol, \n",
    "                                  numConfs = confs, \n",
    "                                  pruneRmsThresh = rms, \n",
    "                                  randomSeed = 1234)\n",
    "```\n",
    "\n",
    "- \n",
    "- `numConfs=confs`：生成するコンフォーマーの個数。\n",
    "- `pruneRmsThresh=rms`：同じような構造（RMSD が近い）を間引く閾値。\n",
    "- `randomSeed=1234`：再現性のための乱数シード。\n",
    "- `cids`：生成されたコンフォーマーの ID（インデックス）のリスト。\n",
    "\n",
    "---\n",
    "\n",
    "### forcefield が `'uff'` のとき\n",
    "\n",
    "```python\n",
    "ff = AllChem.UFFGetMoleculeForceField(mol, confId=cid)\n",
    "ff.Minimize()\n",
    "energies.append((ff.CalcEnergy(), cid))\n",
    "```\n",
    "\n",
    "- UFF（Universal Force Field）を用いて最適化。\n",
    "- `Minimize()` でエネルギー最小化。\n",
    "- `CalcEnergy()` で最小化後のエネルギーを取得。\n",
    "- `(エネルギー, コンフォーマーID)` のタプルとしてリストに追加。\n",
    "\n",
    "### forcefield が `'mmff'` のとき\n",
    "\n",
    "```python\n",
    "props = AllChem.MMFFGetMoleculeProperties(mol)\n",
    "```\n",
    "\n",
    "- MMFF（Merck Molecular Force Field）ではまず `props`（分子の性質情報）を取得する必要があります。\n",
    "\n",
    "```python\n",
    "ff = AllChem.MMFFGetMoleculeForceField(mol, props, confId=cid)\n",
    "ff.Minimize()\n",
    "energies.append((ff.CalcEnergy(), cid))\n",
    "```\n",
    "\n",
    "- `props` を使ってMMFF用の力場を生成。\n",
    "- `Minimize()` → `CalcEnergy()` → 追加、は UFF と同様。\n"
   ]
  },
  {
   "cell_type": "code",
   "execution_count": 7,
   "id": "490f99b3",
   "metadata": {},
   "outputs": [],
   "source": [
    "# エラーログを記録する関数\n",
    "def log_error(smiles, label, error_msg):\n",
    "    with open(os.path.join(error_dir, \"error_log.txt\"), \"a\") as f:\n",
    "        f.write(f\"ID: {label}, SMILES: {smiles}\\n\")\n",
    "        f.write(f\"Error: {error_msg}\\n\")\n",
    "        f.write(\"-\" * 50 + \"\\n\")"
   ]
  },
  {
   "cell_type": "markdown",
   "id": "aa9d3d20",
   "metadata": {},
   "source": [
    "## 3.実行およびファイル出力\n",
    "SMILES 文字列リストから分子を作成 → 水素を付加 → 複数コンフォーマーを生成・最適化させます。\n",
    "その後、最安定となった構造について.mol, .xyz, .gjf ファイルとして保存を行います。"
   ]
  },
  {
   "cell_type": "code",
   "execution_count": null,
   "id": "d2249343",
   "metadata": {},
   "outputs": [
    {
     "name": "stdout",
     "output_type": "stream",
     "text": [
      "処理を開始します...\n",
      "1/10 - C1(C2=NN(C3=CC=CC4=C3C=CC=C4)N=C2)=CC=CC=C1 処理中...\n",
      "2/10 - O=C(C1=CC=CC=C1)C2=NN(C3=CC=CC=C3)N=C2C4=CC=CC=C4 処理中...\n",
      "3/10 - C1(C2=NN(C3=NC=CC=C3)N=C2)=CC=CC=C1 処理中...\n",
      "4/10 - FC(C=C1)=CC=C1C2=NN(C3=CC=C(F)C=C3)N=C2 処理中...\n"
     ]
    }
   ],
   "source": [
    "%%time\n",
    "\n",
    "# ファイル出力ループ\n",
    "print(\"処理を開始します...\")\n",
    "\n",
    "for i, (label, smiles) in enumerate(zip(labels, smiles_list)):\n",
    "    try:\n",
    "        # 水素付加\n",
    "        mol = Chem.MolFromSmiles(smiles)\n",
    "        if mol is None:\n",
    "            print(f\"警告: 無効なSMILES ({smiles}) - スキップします\")\n",
    "            failed_molecules.append((label, smiles, \"無効なSMILES形式\"))\n",
    "            log_error(smiles, label, \"無効なSMILES形式\")\n",
    "            continue\n",
    "            \n",
    "        mol = Chem.AddHs(mol)\n",
    "\n",
    "        # コンフォーマーの生成と最適化\n",
    "        results = opt_conformers(mol, forcefield)\n",
    "        \n",
    "        if results is None or len(results) == 0:\n",
    "            print(f\"警告: コンフォーマー生成に失敗 ({smiles}) - スキップします\")\n",
    "            failed_molecules.append((label, smiles, \"コンフォーマー生成失敗\"))\n",
    "            log_error(smiles, label, \"コンフォーマー生成失敗\")\n",
    "            continue\n",
    "            \n",
    "        selected = results[:pickup]\n",
    "\n",
    "        # ファイル出力\n",
    "        for j, (rel_energy, cid) in enumerate(selected):\n",
    "            print(f\"{i+1}/{len(smiles_list)} - {smiles} 処理中...\")\n",
    "            base = f\"{label}_{forcefield}_{j}\"\n",
    "            \n",
    "            # molファイル保存\n",
    "            molfile = os.path.join(output_dir, base + \".mol\")\n",
    "            Chem.MolToMolFile(mol, molfile, confId=cid)\n",
    "            \n",
    "            # xyzファイル保存\n",
    "            xyzfile = os.path.join(output_dir, base + \".xyz\")\n",
    "            write_xyz_input(mol, cid, xyzfile)\n",
    "            \n",
    "            # gjfファイル保存\n",
    "            gjf_file = os.path.join(output_dir, base + \".gjf\")\n",
    "            write_gaussian_input(mol, cid, gjf_file)\n",
    "\n",
    "    except Exception as e:\n",
    "        error_msg = traceback.format_exc()\n",
    "        print(f\"エラー発生 ({smiles}): {str(e)}\")\n",
    "        failed_molecules.append((label, smiles, str(e)))\n",
    "        log_error(smiles, label, error_msg)\n",
    "        continue\n",
    "\n",
    "# 処理結果の表示\n",
    "print(f\"処理完了: {output_dir} フォルダに .mol, .xyz, .gjf が保存されました。\")\n",
    "print(f\"エラーログ: {error_dir}/error_log.txt に保存されました。\")"
   ]
  },
  {
   "cell_type": "markdown",
   "id": "8f2e9d37-cab6-406e-94d0-b10cf58627fe",
   "metadata": {},
   "source": [
    "### エラーとなった分子のサマリーファイルの作成"
   ]
  },
  {
   "cell_type": "code",
   "execution_count": null,
   "id": "a2eb30b1",
   "metadata": {},
   "outputs": [],
   "source": [
    "# エラーとなった分子の要約\n",
    "if failed_molecules:\n",
    "    print(f\"\\n処理に失敗した分子数: {len(failed_molecules)}/{len(smiles_list)}\")\n",
    "    \n",
    "    # エラーサマリーをCSVで保存\n",
    "    error_summary = pd.DataFrame(failed_molecules, columns=[\"ID\", \"SMILES\", \"Error\"])\n",
    "    error_summary.to_csv(os.path.join(error_dir, \"failed_molecules.csv\"), index=False)\n",
    "    print(f\"失敗した分子のリスト: {error_dir}/failed_molecules.csv に保存されました。\")\n",
    "else:\n",
    "    print(\"\\nすべての分子が正常に処理されました。\")"
   ]
  },
  {
   "cell_type": "markdown",
   "id": "49eb56ca",
   "metadata": {},
   "source": [
    "## 4.最安定構造の可視化\n",
    "util.pyの補助関数 show_3D_from_xyz() を使ってpy3Dmolから、最安定構造のコンフォーマーを可視化します。"
   ]
  },
  {
   "cell_type": "code",
   "execution_count": null,
   "id": "c3b90dea",
   "metadata": {},
   "outputs": [],
   "source": [
    "def show_all_xyz_from_output(folder='output', pattern='*.xyz'):\n",
    "    \"\"\"\n",
    "    指定フォルダ内の「0番目構造（最安定構造）」のxyzファイルをすべて表示する。\n",
    "    \n",
    "    Args:\n",
    "        folder: xyzファイルが格納されているフォルダ名（デフォルト: 'output'）\n",
    "        pattern: 検索パターン（デフォルト: '*_0.xyz'）\n",
    "\n",
    "    Returns:\n",
    "        None（Notebook上で順に表示される）\n",
    "    \"\"\"\n",
    "    file_paths = sorted(glob.glob(os.path.join(folder, pattern)))\n",
    "\n",
    "    if not file_paths:\n",
    "        print(\"該当ファイルが見つかりませんでした。\")\n",
    "        return\n",
    "\n",
    "    for xyz_path in file_paths:\n",
    "        show_3D_from_xyz(xyz_path)\n"
   ]
  },
  {
   "cell_type": "code",
   "execution_count": null,
   "id": "4e8e4f0b",
   "metadata": {},
   "outputs": [],
   "source": [
    "show_all_xyz_from_output()"
   ]
  }
 ],
 "metadata": {
  "kernelspec": {
   "display_name": "Python 3 (ipykernel)",
   "language": "python",
   "name": "python3"
  },
  "language_info": {
   "codemirror_mode": {
    "name": "ipython",
    "version": 3
   },
   "file_extension": ".py",
   "mimetype": "text/x-python",
   "name": "python",
   "nbconvert_exporter": "python",
   "pygments_lexer": "ipython3",
   "version": "3.10.16"
  }
 },
 "nbformat": 4,
 "nbformat_minor": 5
}
