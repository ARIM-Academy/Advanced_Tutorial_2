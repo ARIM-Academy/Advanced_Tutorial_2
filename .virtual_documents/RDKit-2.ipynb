








!pip install rdkit-pypi
!git clone https://github.com/ARIM-Academy/Advanced_Tutorial_2.git
%cd Advanced_Tutorial_2








import pandas as pd 
import matplotlib.pyplot as plt

from rdkit import Chem
from rdkit.Chem import Draw
from rdkit.Chem.Draw import IPythonConsole





file = './data/dataset/delaney-processed.csv'
df = pd.read_csv(file)
df








from sklearn.metrics import r2_score, mean_absolute_error


def add_scatterplot(ax, measured, predicted, model_name=None):
    """Add a measured vs. predicted scatter plot."""
    
    rsquared = r2_score(measured, predicted)
    mae = mean_absolute_error(measured, predicted)
    
    label = f"R²: {rsquared:.2f}\nMAE = {mae:.2f}"
    
    if model_name:
        label = f"{model_name}\n{label}"
    
    ax.scatter(measured,predicted,label=label,alpha=0.8)


fig, ax = plt.subplots(figsize=(5, 5))
ax.scatter([], [])  # cycle colors

measured = df['measured log solubility in mols per litre']
esol = df['ESOL predicted log solubility in mols per litre']

add_scatterplot(ax, measured, esol)

ax.set(
    xlabel="Measured log (solubility)",
    ylabel="Predicted (ESOL)",
    title="Measured vs. predicted",
)

ax.legend()
plt.show()





import seaborn as sns

fig, ax = plt.subplots(figsize=(5, 5))

# 実験値と予測値のヒストグラム
_, _, hist1 = ax.hist(df['measured log solubility in mols per litre'], density=True, alpha=0.5)
_, _, hist2 = ax.hist(df['ESOL predicted log solubility in mols per litre'], density=True, alpha=0.5)

# 実験値と予測値のkdeプロット
sns.kdeplot(
    data=df,
    x=df['measured log solubility in mols per litre'],
    ax=ax,
    label="Measured",
    color=hist1.patches[0].get_facecolor(),
    lw=2,
)

sns.kdeplot(
    data=df,
    x=df['ESOL predicted log solubility in mols per litre'],
    ax=ax,
    label="ESOL",
    color=hist2.patches[0].get_facecolor(),
    lw=2,
)

ax.legend()
ax.set(xlabel="log (solubility)", title="Distribution of solubilities")

ax.grid()
plt.show()





df['smiles']





df['smiles'][0]


Amigdalin =  Chem.MolFromSmiles(df['smiles'][0])
Amigdalin





mols = [Chem.MolFromSmiles(smi) for smi in df['smiles']]

Draw.MolsToGridImage(mols, 
                     molsPerRow=3, 
                     subImgSize=(400, 200)
                    )





df['mol']=df['smiles'].apply(Chem.MolFromSmiles)
df








# 最初のCompound ID =Amigdalin のアミグダリンについて化合物を表示
df['mol'][0]


# 4つ目のピセンについて化合物を表示
df['mol'][3]





from rdkit.Chem import PandasTools


PandasTools.AddMoleculeColumnToFrame(df, smilesCol='smiles')
df








PandasTools.FrameToGridImage(df.head(16), 
                             legendsCol="measured log solubility in mols per litre", 
                             molsPerRow=4)






