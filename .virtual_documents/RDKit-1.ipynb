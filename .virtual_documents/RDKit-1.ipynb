

















!pip install rdkit
!git clone https://github.com/ARIM-Academy/Advanced_Tutorial_2.git
%cd Advanced_Tutorial_2





from rdkit import Chem





#fileの相対パスを定義
file ='data/aspirin.mol'

#fileの読み込み
mol_mol = Chem.MolFromMolFile(file)
mol_mol








#アスピリンのSMILESを定義
smiles = "CC(OC1=C(C(=O)O)C=CC=C1)=O"

mol_smiles = Chem.MolFromSmiles(smiles)
mol_smiles








# ケース１
smiles1 ='C1=CC=CN=C1'

mol1 =Chem.MolFromSmiles(smiles1)
Chem.MolToSmiles(mol1)


# ケース2
smiles2 ='c1cccnc1'

mol2 =Chem.MolFromSmiles(smiles1)
Chem.MolToSmiles(mol2)


# ケース3
smiles3 ='n1ccccc1'

mol3 =Chem.MolFromSmiles(smiles3)
Chem.MolToSmiles(mol3)





#アスピリンのsdfファイルの相対パス
file ='data/aspirin.sdf'

sdf = Chem.SDMolSupplier(file)
sdf





# sdfの最初の要素の呼び出し
sdf[0]


# sdfの2番目の要素の呼び出し
sdf[1]








for x in sdf:
    print(Chem.MolToSmiles(x))





sdf2 = Chem.SDMolSupplier(file)


# 最初の化合物を呼び出します。
y = next(sdf2)
print(Chem.MolToSmiles(y))


# 2つめの化合物を呼び出します。
y = next(sdf2)
print(Chem.MolToSmiles(y))


# 3回目ではすでに要素がないためStopIterationが発生します
y = next(sdf2)
print(Chem.MolToSmiles(y))





from rdkit.Chem import Draw
from rdkit.Chem.Draw import IPythonConsole





#無水フタル酸のMolオブジェクト化

smiles = "O=C(OC(=O)c1cccc2)c12"
phthalic_anhydride = Chem.MolFromSmiles(smiles)





img = Draw.MolToImage(phthalic_anhydride)
img








# 無水フタル酸
smiles = "O=C(OC(=O)c1cccc2)c12"
phthalic_anhydride = Chem.MolFromSmiles(smiles)
phthalic_anhydride


# フタル酸ジメチル
dimethyl_phthalate = Chem.MolFromSmiles('O=C(OC)c(c(ccc1)C(=O)OC)c1')
dimethyl_phthalate


# 二つの分子をリスト配置
mol_list =[phthalic_anhydride,dimethyl_phthalate]

img2 = Draw.MolsToGridImage(mol_list, 
                            molsPerRow=2
                           )

img2








# ４つの分子をリスト配置
smiles = [
    'CC(=O)Oc1ccccc1C(=O)O',
    'O=C(OC(=O)c1cccc2)c12',
    'O=C(OC)c(c(ccc1)C(=O)OC)c1',
    'O=C(OC1CCCCC1)C2=C(C=CC=C2)C(OC3CCCCC3)=O'
]

mol_list = [Chem.MolFromSmiles(smi) for smi in smiles]

Draw.MolsToGridImage(mol_list, 
                     molsPerRow=3, 
                     subImgSize=(400, 200)
                    )











smiles = "CC(OC1=C(C(=O)O)C=CC=C1)=O"
mol = Chem.MolFromSmiles(smiles)

#MOLファイルへの保存
save_file ='./output/aspirin_rdkit.mol'
Chem.MolToMolFile(mol, save_file)





smiles = "CC(OC1=C(C(=O)O)C=CC=C1)=O"

#MSMILESでの保存
save_file = './output/aspirin_rdkit.smi'
with open(save_file, 'w') as f:
    f.write(smiles)





smiles = "CC(OC1=C(C(=O)O)C=CC=C1)=O"
mol = Chem.MolFromSmiles(smiles)

# SDFフォーマットでの保存
save_file = './output/aspirin_rdkit.sdf'
writer = Chem.SDWriter(save_file)
writer.write(mol)
writer.close()





smiles = "CC(OC1=C(C(=O)O)C=CC=C1)=O"
mol = Chem.MolFromSmiles(smiles)

# PDBフォーマットでの保存
save_file = './output/aspirin_rdkit.pdb'
writer = Chem.PDBWriter(save_file)
writer.write(mol)
writer.close()





molecules = [phthalic_anhydride, dimethyl_phthalate]

img = Draw.MolsToGridImage(molecules, 
                           molsPerRow=2,
                           returnPNG=False
                          )
# imageの保存
img.save('./output/molecules.jpg')












