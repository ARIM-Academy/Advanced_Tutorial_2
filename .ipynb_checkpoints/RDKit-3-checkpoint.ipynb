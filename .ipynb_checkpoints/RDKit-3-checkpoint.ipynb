{
 "cells": [
  {
   "cell_type": "markdown",
   "id": "d52cd5f8-3c9a-4df9-80a8-b205cf61a1a5",
   "metadata": {},
   "source": [
    "<img src=\"./img/img-3.png\"><br> "
   ]
  },
  {
   "cell_type": "markdown",
   "id": "3df55680-8b87-4a97-b148-4c418eac909d",
   "metadata": {},
   "source": [
    "## 本編の目標\n",
    "\n",
    "RDKitを用いて力場計算によるコンフォーマー探索を学びます。\n",
    "\n",
    "1. **RDKitを使った分子のコンフォーマー生成と力場最適化を行う**\n",
    "2. **生成したコンフォーマーからエネルギーの低い構造を選択する**\n",
    "3. **選択したコンフォーマーをmol、xyz、gjf形式で保存し、3D可視化する**\n",
    "\n",
    "これら3つの操作について学びます。"
   ]
  },
  {
   "cell_type": "markdown",
   "id": "a72605dd",
   "metadata": {},
   "source": [
    "## RDKitで扱える分子力場について\n",
    "<div style=\"border:1px solid #000; padding:10px;\">\n",
    "量子化学計算を行う前の準備として、分子構造のコンフォーマー探索を行い、安定な構造骨格を得る必要があります。本手法では、RDKitライブラリによる力場計算（UFFまたはMMFF[1]）を用いてコンフォーマーを探索し、最も安定な構造を基に、Gaussian用の入力ファイル（.gjf）、psi4用の.xyzファイル、あるいはmol形式のファイルとして出力します。\n",
    "\n",
    "\n",
    "[1] Tosco, P., Stiefl, N. & Landrum, G. *Bringing the MMFF force field to the RDKit: implementation and validation.* J Cheminform **6**, 37 (2014). https://doi.org/10.1186/s13321-014-0037-3  \n",
    "\n",
    "---\n",
    "\n",
    "### **Universal Force Field (UFF)**  \n",
    "Universal Force Field（UFF）はコロラド州立大学にて開発された汎用分子力場であり、アクチノイドを含む周期表全元素に対してパラメータが定義されている点に特長があります。元素については横断的な適用性を有するため、広範な分子系に対して構造最適化やコンフォーマー探索を可能とします。一方で、特に金属錯体や無機化合物においては、経験的パラメータの精度や実験データとの整合性に課題があり、定量的な信頼性には限界があります。\n",
    "\n",
    "### **Merck Molecular Force Field (MMFF)**    \n",
    "Merck Molecular Force Field（MMFF）は、Merck Research Laboratories によって開発された分子力場であり、従来の MM3 力場の設計思想を継承・発展させたものです。MMFF は有機分子全般に対して高い再現性と精度を発揮するように設計されていることに特長があります。一方で、下記の「MMFFのコンフォーマー生成における留意点 」にあるような、分子構造によっては計算に困難を伴うことがあります。\n",
    "\n",
    "### MMFFのコンフォーマー生成における留意点  \n",
    "以下に示す構造的特徴を有する分子は、MMFFに基づく構造最適化およびコンフォーマー生成において困難を伴うことがあります。\n",
    "\n",
    "- **長鎖アルキル基**  \n",
    "  十分な柔軟性を持つ長鎖アルキル基は、多数の回転異性体を生み出しうるため、コンフォーマー空間が極めて広大となり、探索アルゴリズムの収束に時間を要することがあります。\n",
    "  \n",
    "- **複雑な縮合環系**  \n",
    "  多環芳香族や縮合複素環を有する分子は、構造の剛直性が高く、コンフォーマー空間が限られるため、探索効率が低下する傾向があります。\n",
    "\n",
    "- **嵩高い置換基の存在**  \n",
    "  イソプロピル基やトリフルオロメチル基といった立体的にかさばる置換基は、コンフォーマー生成アルゴリズムにおいて不自然な衝突やコンフォーマーの収束失敗を引き起こす要因となります。\n",
    "\n",
    "- **電荷を有する官能基**  \n",
    "  正電荷を有する四級アンモニウム（[N+]）、負電荷を有するボロネートアニオン（[B-]）などの存在は、静電ポテンシャル場の形成に大きく影響し、構造最適化の収束を妨げる可能性があります。\n",
    "\n",
    "- **ボロン (B) を含む構造**  \n",
    "  ボロンは多様な配位数と結合様式を示し、MMFFとの整合性が乏しい場合があります。特に、ボロンに窒素や芳香環が直接結合している構造では、立体的拘束が大きく、初期構造生成に失敗することがあります。\n",
    "\n",
    "- **ボロン-窒素 (B–N) 結合環**  \n",
    "  一部の分子においては、B–N結合を含む芳香族様の環構造が確認されており、電子的特性や結合の特殊性が力場のパラメータ化と整合しない可能性がある。"
   ]
  },
  {
   "cell_type": "markdown",
   "id": "bb7a373d-db24-482c-b9fc-41e55f7a4439",
   "metadata": {},
   "source": [
    "### 教材への接続\n",
    "google colabにおけるオンラインの場合にこのラインを実行します。（<font color=\"red\">Google colabに接続しない場合には不要</font>）"
   ]
  },
  {
   "cell_type": "code",
   "execution_count": null,
   "id": "00c2b617-ede8-4563-807a-58dc0c60f84c",
   "metadata": {},
   "outputs": [],
   "source": [
    "!pip install rdkit\n",
    "!git clone https://github.com/ARIM-Academy/Advanced_Tutorial_2.git\n",
    "%cd Advanced_Tutorial_2"
   ]
  },
  {
   "cell_type": "markdown",
   "id": "a0a7516d",
   "metadata": {},
   "source": [
    "### ライブラリのインポート\n",
    "RDkitでコンフォーマーサーチを行うためのpythonのライブラリをimport文でロードします。"
   ]
  },
  {
   "cell_type": "code",
   "execution_count": 1,
   "id": "878e2fd9",
   "metadata": {},
   "outputs": [],
   "source": [
    "from rdkit import Chem\n",
    "from rdkit.Chem import AllChem\n",
    "\n",
    "import os, glob\n",
    "\n",
    "import warnings\n",
    "warnings.filterwarnings('ignore')"
   ]
  },
  {
   "cell_type": "markdown",
   "id": "1e197dec-547d-47fb-8646-4921e1cf118b",
   "metadata": {},
   "source": [
    "## 1.ファイルの読み込み\n",
    "解熱鎮痛剤のアセチルサリチル酸（アスピリン）を例にして、MOL形式ファイルからデータを読み込む方法を紹介します。MOLファイルは、[data]という名前のフォルダに保存されていることを想定しています。"
   ]
  },
  {
   "cell_type": "code",
   "execution_count": 2,
   "id": "558b1294-1fa6-48c0-b663-7ad49b8c2dac",
   "metadata": {},
   "outputs": [],
   "source": [
    "#fileの相対パスを定義\n",
    "file ='data/aspirin.mol'\n",
    "\n",
    "# molファイル読み込み\n",
    "mol = Chem.MolFromMolFile(file, removeHs=False)"
   ]
  },
  {
   "cell_type": "markdown",
   "id": "e29c66e9-c6b6-4599-876f-2c91aec05cd8",
   "metadata": {},
   "source": [
    "分子`mol`に対して、水素原子を付加します。この操作は、コンフォーマー探索の計算処理に向けた重要な前処理で、精度の高い分子モデリングを行うための基本的なステップとなります。"
   ]
  },
  {
   "cell_type": "code",
   "execution_count": 3,
   "id": "cac6c31c-3787-4088-99bd-d14d5c4bf1e9",
   "metadata": {},
   "outputs": [
    {
     "data": {
      "image/png": "[encoded data removed]",
      "text/plain": [
       "<rdkit.Chem.rdchem.Mol at 0x215174b30d0>"
      ]
     },
     "execution_count": 3,
     "metadata": {},
     "output_type": "execute_result"
    }
   ],
   "source": [
    "mol = Chem.AddHs(mol, addCoords=True)\n",
    "mol"
   ]
  },
  {
   "cell_type": "markdown",
   "id": "e99c2037-c2b8-4c70-9d7f-6c95111dbb7c",
   "metadata": {},
   "source": [
    "【解説】**`Chem.AddHs()`** メソッド\n",
    "\n",
    "既存の分子オブジェクトに対して、水素原子（Hydrogen atoms）を付加する操作を行うものです。水素付加後の分子オブジェクトは、オリジナルとは異なる新たなインスタンスであるため、元の分子オブジェクトを直接変更するわけではない点に留意が必要です。\n",
    "\n",
    "```python\n",
    "mol = Chem.AddHs(mol, addCoords=True)\n",
    "```\n",
    "\n",
    "- `addCoords=True` ：　もとの分子が三次元座標（原子位置情報）を有している場合には、追加される水素原子にも座標が補完されます。すなわち、適切な立体配置が維持される形で水素が付加されます。\n",
    "- `addCoords=False`（デフォルト）：水素原子に座標は与えられず、単に結合情報のみが付加されます。"
   ]
  },
  {
   "cell_type": "markdown",
   "id": "383b5a63",
   "metadata": {},
   "source": [
    "## 2.コンフォーマー生成\n",
    "対象分子に対して複数の三次元コンフォーマー（3D conformers）を生成する工程を実施します。"
   ]
  },
  {
   "cell_type": "code",
   "execution_count": 6,
   "id": "fb049391-8d46-430c-8700-cc823e38a8f2",
   "metadata": {},
   "outputs": [],
   "source": [
    "# 初期設定\n",
    "confs = 1000        # コンフォーマーの発生数\n",
    "rms = 0.5           # 類似した構造を排除する枝刈りレベル\n",
    "pickup = 1          # コンフォーマーの選択数\n",
    "forcefield = \"uff\"  # \"uff\" または \"mmff\""
   ]
  },
  {
   "cell_type": "code",
   "execution_count": 7,
   "id": "bcf35e92-bfdf-4b37-93e7-cc00a2cdb0fc",
   "metadata": {},
   "outputs": [
    {
     "name": "stdout",
     "output_type": "stream",
     "text": [
      "生成されたコンフォーマー数: 2\n"
     ]
    }
   ],
   "source": [
    "#コンフォーマー探索\n",
    "cids = AllChem.EmbedMultipleConfs(\n",
    "    mol,\n",
    "    numConfs=confs,\n",
    "    pruneRmsThresh=rms,\n",
    "    randomSeed=1234\n",
    ")\n",
    "\n",
    "print(f\"生成されたコンフォーマー数: {len(cids)}\")"
   ]
  },
  {
   "cell_type": "markdown",
   "id": "bd226e7c-e2ec-4c27-a411-a3e5d7baefbd",
   "metadata": {},
   "source": [
    "---\n",
    "\n",
    "【解説】AllChem.EmbedMultipleConfs()メソッドについて\n",
    "\n",
    "`rdkit.Chem.AllChem.EmbedMultipleConfs()` は、指定した分子（`Mol`オブジェクト）に対して、**複数の三次元コンフォーマー**（3D conformers）を生成するための関数です。分子モデリング、立体配座探索、エネルギー最適化など、下流の化学情報学プロセスにおいて必須となる初期構造群を提供します。\n",
    "\n",
    "\n",
    "#### 1. 主な引数\n",
    "\n",
    "| 引数 | 説明 |\n",
    "|:---|:---|\n",
    "| `mol` | コンフォーマーを生成する対象の`Mol`オブジェクト。 |\n",
    "| `numConfs` | 生成を試みるコンフォーマーの最大数（デフォルト：10）。 |\n",
    "| `pruneRmsThresh` | 枝刈り（pruning）閾値。生成されたコンフォーマー同士のRMSD（Root Mean Square Deviation）がこの値未満であれば、冗長と見なして破棄される（デフォルト：-1.0、すなわち枝刈りを行わない）。 |\n",
    "| `randomSeed` | 乱数生成器のシード。固定することで結果の再現性を確保できる。 |\n",
    "| `useExpTorsionAnglePrefs` | 既知のトーション角情報（例えば結晶構造から得られたもの）を利用するか（デフォルト：`True`）。 |\n",
    "| `useBasicKnowledge` | 一般的な化学構造知識（例えば、sp²炭素は平面構造を取るべき等）を利用するか（デフォルト：`True`）。 |\n",
    "\n",
    "\n",
    "#### 2. 戻り値\n",
    "\n",
    "関数は、**生成されたコンフォーマーのID番号（`confId`）のリスト** を返却する。各IDは、`Mol`オブジェクト内の個々のコンフォーマーにアクセスする際に用いられる。例えば、生成されたコンフォーマーに対して個別にエネルギー最適化やファイル出力を行う際、`confId`を指定することが求められる。\n",
    "\n",
    "---"
   ]
  },
  {
   "cell_type": "markdown",
   "id": "73ed7159-5f57-4125-b051-751e79c2c453",
   "metadata": {},
   "source": [
    "## 3.実行（コンフォーマー探索）\n",
    "生成された複数の三次元コンフォーマーそれぞれに対して、力場計算を用いてエネルギー最適化を行い、さらに最適化後のエネルギーを算出します。ff.Minimize() を呼び出すことで、対象コンフォーマーのエネルギー最小化計算（構造緩和）が実行され、力場に基づき、結合長、結合角、二面角、非結合性相互作用などが考慮されながら、構造は局所的なエネルギー極小点へと緩和されます。最適化後に得られたエネルギー値と対応するコンフォーマーIDは、タプル (cid, energy) の形式でリスト energies に格納されます。このリストは、たとえば最も安定なコンフォーマーを選択するなど、後続の処理に利用されます。"
   ]
  },
  {
   "cell_type": "code",
   "execution_count": 8,
   "id": "c69e15a6-818c-4a8b-8d42-8f44a31af326",
   "metadata": {},
   "outputs": [],
   "source": [
    "# コンフォーマーごとのエネルギー最適化\n",
    "energies = []\n",
    "\n",
    "for cid in cids:\n",
    "    if forcefield.lower() == \"uff\":\n",
    "        ff = AllChem.UFFGetMoleculeForceField(mol, confId=cid)\n",
    "    elif forcefield.lower() == \"mmff\":\n",
    "        props = AllChem.MMFFGetMoleculeProperties(mol, mmffVariant='MMFF94')\n",
    "        ff = AllChem.MMFFGetMoleculeForceField(mol, props, confId=cid)\n",
    "\n",
    "    ff.Minimize()\n",
    "    energy = ff.CalcEnergy()\n",
    "    energies.append((cid, energy))"
   ]
  },
  {
   "cell_type": "markdown",
   "id": "79015278",
   "metadata": {},
   "source": [
    "【解説】\n",
    "#### forcefield が `'uff'` のとき\n",
    "\n",
    "```python\n",
    "ff = AllChem.UFFGetMoleculeForceField(mol, confId=cid)\n",
    "ff.Minimize()\n",
    "energies.append((ff.CalcEnergy(), cid))\n",
    "```\n",
    "\n",
    "- UFF（Universal Force Field）を用いて最適化。\n",
    "- `Minimize()` でエネルギー最小化。\n",
    "- `CalcEnergy()` で最小化後のエネルギーを取得。\n",
    "- `(エネルギー, コンフォーマーID)` のタプルとしてリストに追加。\n",
    "\n",
    "#### forcefield が `'mmff'` のとき\n",
    "\n",
    "```python\n",
    "props = AllChem.MMFFGetMoleculeProperties(mol)\n",
    "```\n",
    "\n",
    "- MMFF（Merck Molecular Force Field）ではまず `props`（分子の性質情報）を取得する必要があります。\n",
    "\n",
    "```python\n",
    "ff = AllChem.MMFFGetMoleculeForceField(mol, props, confId=cid)\n",
    "ff.Minimize()\n",
    "energies.append((ff.CalcEnergy(), cid))\n",
    "```\n",
    "\n",
    "- `props` を使ってMMFF用の力場を生成。\n",
    "- `Minimize()` → `CalcEnergy()` → 追加、は UFF と同様。\n"
   ]
  },
  {
   "cell_type": "markdown",
   "id": "9f2be357-9903-4d5c-90e1-6e92f9c899a1",
   "metadata": {},
   "source": [
    "## 4.最安定構造のファイル出力\n",
    "その後、最安定となった構造について.mol, .xyz, .gjf ファイルとして保存を行います。"
   ]
  },
  {
   "cell_type": "code",
   "execution_count": 9,
   "id": "2f2d283d-c51a-4ec4-be4d-e7b2c821f8fe",
   "metadata": {},
   "outputs": [],
   "source": [
    "# ソート用の関数を定義\n",
    "def get_energy(item):\n",
    "    return item[1]\n",
    "\n",
    "# エネルギーでソートして最も低いものだけ選択\n",
    "energies.sort(key=get_energy)"
   ]
  },
  {
   "cell_type": "code",
   "execution_count": 21,
   "id": "a4ef55f7-a715-4165-ba38-9a6d20a72dba",
   "metadata": {},
   "outputs": [
    {
     "data": {
      "text/plain": [
       "[(1, 23.812173743744232), (0, 23.880717993872)]"
      ]
     },
     "execution_count": 21,
     "metadata": {},
     "output_type": "execute_result"
    }
   ],
   "source": [
    "energies"
   ]
  },
  {
   "cell_type": "code",
   "execution_count": 27,
   "id": "20bfeb76-a580-470a-bfc3-46b535b0980d",
   "metadata": {},
   "outputs": [],
   "source": [
    "# 最小エネルギーのコンフォーマーIDを1つだけ取得\n",
    "best_cids = energies[0][0]"
   ]
  },
  {
   "cell_type": "code",
   "execution_count": 28,
   "id": "c1ba607b-62a4-43ef-b1d4-e69ebde016ab",
   "metadata": {},
   "outputs": [
    {
     "data": {
      "text/plain": [
       "1"
      ]
     },
     "execution_count": 28,
     "metadata": {},
     "output_type": "execute_result"
    }
   ],
   "source": [
    "best_cids"
   ]
  },
  {
   "cell_type": "code",
   "execution_count": 30,
   "id": "aa0aa724-6b19-420b-ab61-2a092ac5602e",
   "metadata": {},
   "outputs": [
    {
     "name": "stdout",
     "output_type": "stream",
     "text": [
      "コンフォーマー 1 を optimized_conformer_1.mol に保存しました。\n",
      "コンフォーマー選択＆最適化完了！\n"
     ]
    }
   ],
   "source": [
    "# 保存\n",
    "base_name = 'optimized_conformer_1'\n",
    "\n",
    "# molファイル保存\n",
    "molfile = base_name + '.mol'\n",
    "Chem.MolToMolFile(mol, molfile, confId=best_cids)\n",
    "\n",
    "print(f\"コンフォーマー {best_cids} を {molfile} に保存しました。\")"
   ]
  },
  {
   "cell_type": "code",
   "execution_count": 36,
   "id": "6bb63491-36a5-4caf-9ac6-dabf23bc1391",
   "metadata": {},
   "outputs": [
    {
     "name": "stdout",
     "output_type": "stream",
     "text": [
      "コンフォーマー 1 を optimized_conformer_1.xyz に保存しました。\n",
      "コンフォーマー 1 を optimized_conformer_1.gjf に保存しました。\n"
     ]
    }
   ],
   "source": [
    "# 選ばれたコンフォーマーだけを保存（.mol, .xyz., .gifの３形式で保存）\n",
    "\n",
    "# xyzファイル保存\n",
    "xyzfile = base_name + '.xyz'\n",
    "\n",
    "with open(xyzfile, 'w') as f:\n",
    "    conf = mol.GetConformer(best_cids)\n",
    "    f.write(f\"{mol.GetNumAtoms()}\\n\\n\")\n",
    "    for atom in mol.GetAtoms():\n",
    "        pos = conf.GetAtomPosition(atom.GetIdx())\n",
    "        f.write(f\"{atom.GetSymbol():<2} {pos.x:.6f} {pos.y:.6f} {pos.z:.6f}\\n\")\n",
    "        \n",
    "print(f\"コンフォーマー {best_cids} を {xyzfile} に保存しました。\")\n",
    "\n",
    "# gjfファイル保存\n",
    "gjffile = base_name + '.gjf'\n",
    "\n",
    "with open(gjffile, 'w') as f:\n",
    "    f.write(\"%nproc=4\\n%mem=8GB\\n#p opt freq b3lyp/6-31g(d)\\n\\n\")\n",
    "    f.write(f\"{base_name}\\n\\n\")\n",
    "    f.write(\"0 1\\n\")  # (電荷、スピン多重度)\n",
    "    for atom in mol.GetAtoms():\n",
    "        pos = conf.GetAtomPosition(atom.GetIdx())\n",
    "        f.write(f\"{atom.GetSymbol():<2} {pos.x:.6f} {pos.y:.6f} {pos.z:.6f}\\n\")\n",
    "    f.write(\"\\n\")\n",
    "    \n",
    "print(f\"コンフォーマー {best_cids} を {gjffile} に保存しました。\")"
   ]
  },
  {
   "cell_type": "markdown",
   "id": "49eb56ca",
   "metadata": {},
   "source": [
    "## 5.最安定構造の可視化\n",
    "show_3D_from_xyz() を使ってpy3Dmolから、最安定構造のコンフォーマーを可視化します。"
   ]
  },
  {
   "cell_type": "code",
   "execution_count": 12,
   "id": "48258f49-3079-478a-93ae-21129a4b5ca0",
   "metadata": {},
   "outputs": [],
   "source": [
    "import py3Dmol\n",
    "\n",
    "def show_3D_from_xyz(xyz_path, width=400, height=400, background='#e1e1e1'):\n",
    "    with open(xyz_path, 'r') as f:\n",
    "        xyz = f.read()\n",
    "\n",
    "    view = py3Dmol.view(width=width, height=height)\n",
    "    \n",
    "    view.addModel(xyz, 'xyz')\n",
    "    view.setStyle({'stick': {}})\n",
    "    view.setBackgroundColor(background)\n",
    "    view.zoomTo()\n",
    "    \n",
    "    return view.show()"
   ]
  },
  {
   "cell_type": "code",
   "execution_count": 13,
   "id": "4e8e4f0b",
   "metadata": {},
   "outputs": [
    {
     "data": {
      "application/3dmoljs_load.v0": "<div id=\"3dmolviewer_17457067191860638\"  style=\"position: relative; width: 400px; height: 400px;\">\n        <p id=\"3dmolwarning_17457067191860638\" style=\"background-color:#ffcccc;color:black\">3Dmol.js failed to load for some reason.  Please check your browser console for error messages.<br></p>\n        </div>\n<script>\n\nvar loadScriptAsync = function(uri){\n  return new Promise((resolve, reject) => {\n    //this is to ignore the existence of requirejs amd\n    var savedexports, savedmodule;\n    if (typeof exports !== 'undefined') savedexports = exports;\n    else exports = {}\n    if (typeof module !== 'undefined') savedmodule = module;\n    else module = {}\n\n    var tag = document.createElement('script');\n    tag.src = uri;\n    tag.async = true;\n    tag.onload = () => {\n        exports = savedexports;\n        module = savedmodule;\n        resolve();\n    };\n  var firstScriptTag = document.getElementsByTagName('script')[0];\n  firstScriptTag.parentNode.insertBefore(tag, firstScriptTag);\n});\n};\n\nif(typeof $3Dmolpromise === 'undefined') {\n$3Dmolpromise = null;\n  $3Dmolpromise = loadScriptAsync('https://cdnjs.cloudflare.com/ajax/libs/3Dmol/2.4.2/3Dmol-min.js');\n}\n\nvar viewer_17457067191860638 = null;\nvar warn = document.getElementById(\"3dmolwarning_17457067191860638\");\nif(warn) {\n    warn.parentNode.removeChild(warn);\n}\n$3Dmolpromise.then(function() {\nviewer_17457067191860638 = $3Dmol.createViewer(document.getElementById(\"3dmolviewer_17457067191860638\"),{backgroundColor:\"white\"});\nviewer_17457067191860638.zoomTo();\n\tviewer_17457067191860638.addModel(\"21\\n\\nC  3.713716 0.011370 -0.189810\\nC  2.353900 -0.508529 0.130565\\nO  2.236783 -1.547242 0.835632\\nO  1.229350 0.227412 -0.264546\\nC  -0.095043 -0.240177 -0.247725\\nC  -0.383548 -1.599280 -0.481375\\nC  -1.701409 -2.056608 -0.477445\\nC  -2.748605 -1.166235 -0.251992\\nC  -2.483412 0.187208 -0.038193\\nC  -1.160835 0.670908 -0.038283\\nC  -0.924197 2.120039 0.192305\\nO  -2.002129 2.982308 0.378806\\nO  0.244841 2.590061 0.223996\\nH  4.420027 -0.832200 -0.340598\\nH  3.676834 0.618029 -1.118777\\nH  4.073231 0.646364 0.646287\\nH  0.407227 -2.304657 -0.697280\\nH  -1.911501 -3.102852 -0.658882\\nH  -3.770318 -1.523730 -0.250954\\nH  -3.318976 0.855650 0.126974\\nH  -1.855935 3.972161 0.537382\\n\",\"xyz\");\n\tviewer_17457067191860638.setStyle({\"stick\": {}});\n\tviewer_17457067191860638.setBackgroundColor(\"#e1e1e1\");\n\tviewer_17457067191860638.zoomTo();\nviewer_17457067191860638.render();\n});\n</script>",
      "text/html": [
       "<div id=\"3dmolviewer_17457067191860638\"  style=\"position: relative; width: 400px; height: 400px;\">\n",
       "        <p id=\"3dmolwarning_17457067191860638\" style=\"background-color:#ffcccc;color:black\">3Dmol.js failed to load for some reason.  Please check your browser console for error messages.<br></p>\n",
       "        </div>\n",
       "<script>\n",
       "\n",
       "var loadScriptAsync = function(uri){\n",
       "  return new Promise((resolve, reject) => {\n",
       "    //this is to ignore the existence of requirejs amd\n",
       "    var savedexports, savedmodule;\n",
       "    if (typeof exports !== 'undefined') savedexports = exports;\n",
       "    else exports = {}\n",
       "    if (typeof module !== 'undefined') savedmodule = module;\n",
       "    else module = {}\n",
       "\n",
       "    var tag = document.createElement('script');\n",
       "    tag.src = uri;\n",
       "    tag.async = true;\n",
       "    tag.onload = () => {\n",
       "        exports = savedexports;\n",
       "        module = savedmodule;\n",
       "        resolve();\n",
       "    };\n",
       "  var firstScriptTag = document.getElementsByTagName('script')[0];\n",
       "  firstScriptTag.parentNode.insertBefore(tag, firstScriptTag);\n",
       "});\n",
       "};\n",
       "\n",
       "if(typeof $3Dmolpromise === 'undefined') {\n",
       "$3Dmolpromise = null;\n",
       "  $3Dmolpromise = loadScriptAsync('https://cdnjs.cloudflare.com/ajax/libs/3Dmol/2.4.2/3Dmol-min.js');\n",
       "}\n",
       "\n",
       "var viewer_17457067191860638 = null;\n",
       "var warn = document.getElementById(\"3dmolwarning_17457067191860638\");\n",
       "if(warn) {\n",
       "    warn.parentNode.removeChild(warn);\n",
       "}\n",
       "$3Dmolpromise.then(function() {\n",
       "viewer_17457067191860638 = $3Dmol.createViewer(document.getElementById(\"3dmolviewer_17457067191860638\"),{backgroundColor:\"white\"});\n",
       "viewer_17457067191860638.zoomTo();\n",
       "\tviewer_17457067191860638.addModel(\"21\\n\\nC  3.713716 0.011370 -0.189810\\nC  2.353900 -0.508529 0.130565\\nO  2.236783 -1.547242 0.835632\\nO  1.229350 0.227412 -0.264546\\nC  -0.095043 -0.240177 -0.247725\\nC  -0.383548 -1.599280 -0.481375\\nC  -1.701409 -2.056608 -0.477445\\nC  -2.748605 -1.166235 -0.251992\\nC  -2.483412 0.187208 -0.038193\\nC  -1.160835 0.670908 -0.038283\\nC  -0.924197 2.120039 0.192305\\nO  -2.002129 2.982308 0.378806\\nO  0.244841 2.590061 0.223996\\nH  4.420027 -0.832200 -0.340598\\nH  3.676834 0.618029 -1.118777\\nH  4.073231 0.646364 0.646287\\nH  0.407227 -2.304657 -0.697280\\nH  -1.911501 -3.102852 -0.658882\\nH  -3.770318 -1.523730 -0.250954\\nH  -3.318976 0.855650 0.126974\\nH  -1.855935 3.972161 0.537382\\n\",\"xyz\");\n",
       "\tviewer_17457067191860638.setStyle({\"stick\": {}});\n",
       "\tviewer_17457067191860638.setBackgroundColor(\"#e1e1e1\");\n",
       "\tviewer_17457067191860638.zoomTo();\n",
       "viewer_17457067191860638.render();\n",
       "});\n",
       "</script>"
      ]
     },
     "metadata": {},
     "output_type": "display_data"
    }
   ],
   "source": [
    "# 最初のファイルだけ表示\n",
    "show_3D_from_xyz('optimized_conformer_1.xyz')"
   ]
  },
  {
   "cell_type": "code",
   "execution_count": null,
   "id": "8b6486ee-7866-4cfe-9de6-b957fd5e94fa",
   "metadata": {},
   "outputs": [],
   "source": []
  },
  {
   "cell_type": "code",
   "execution_count": null,
   "id": "9a4b928f-c7b6-4c6a-9a25-e2037525b467",
   "metadata": {},
   "outputs": [],
   "source": []
  }
 ],
 "metadata": {
  "kernelspec": {
   "display_name": "Python 3 (ipykernel)",
   "language": "python",
   "name": "python3"
  },
  "language_info": {
   "codemirror_mode": {
    "name": "ipython",
    "version": 3
   },
   "file_extension": ".py",
   "mimetype": "text/x-python",
   "name": "python",
   "nbconvert_exporter": "python",
   "pygments_lexer": "ipython3",
   "version": "3.10.16"
  }
 },
 "nbformat": 4,
 "nbformat_minor": 5
}
