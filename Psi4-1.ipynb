{
 "cells": [
  {
   "cell_type": "code",
   "execution_count": 1,
   "id": "9e9be75d-43cb-45bf-9d83-248c66cae098",
   "metadata": {},
   "outputs": [],
   "source": [
    "import os\n",
    "import datetime\n",
    "import numpy as np\n",
    "import pandas as pd\n",
    "import psi4\n",
    "import sys"
   ]
  },
  {
   "cell_type": "code",
   "execution_count": 2,
   "id": "5871110a",
   "metadata": {},
   "outputs": [],
   "source": [
    "# XYZファイルを読み込んで、mol_inputを作成\n",
    "xyz_file = 'optimized_conformer_1.xyz'"
   ]
  },
  {
   "cell_type": "code",
   "execution_count": 3,
   "id": "7d651f6d-0c98-42db-aecb-635106ebf7c1",
   "metadata": {},
   "outputs": [],
   "source": [
    "with open(xyz_file, 'r') as f:\n",
    "    lines = f.readlines()\n",
    "\n",
    "# 1行目（原子数）、2行目（コメント）はスキップ\n",
    "xyz_data = ''.join(lines[2:])\n",
    "\n",
    "# psi4.geometry()用にフォーマット（\"0 1\\n\" の後にxyz座標）\n",
    "mol_input = f\"\"\"0 1\n",
    "{xyz_data}\n",
    "\"\"\"\n"
   ]
  },
  {
   "cell_type": "code",
   "execution_count": null,
   "id": "5e517c98",
   "metadata": {},
   "outputs": [],
   "source": [
    "# 分子オブジェクトを作成\n",
    "molecule = psi4.geometry(mol_input)\n"
   ]
  },
  {
   "cell_type": "code",
   "execution_count": 5,
   "id": "6f122b84",
   "metadata": {},
   "outputs": [
    {
     "name": "stderr",
     "output_type": "stream",
     "text": [
      "\tPrevious geometry is closer to target in internal coordinates, so using that one.\n",
      "\n",
      "\tBest geometry has RMS(Delta(q)) = 7.95e-05\n",
      "\n",
      "\tPrevious geometry is closer to target in internal coordinates, so using that one.\n",
      "\n",
      "\tBest geometry has RMS(Delta(q)) = 3.51e-04\n",
      "\n",
      "\tChange in internal coordinate of 5.01e-01 exceeds limit of 5.00e-01.\n",
      "\tSkipping Hessian update for step 3.\n",
      "\tChange in internal coordinate of 8.25e-01 exceeds limit of 5.00e-01.\n",
      "\tSkipping Hessian update for step 2.\n",
      "\tChange in internal coordinate of 8.44e-01 exceeds limit of 5.00e-01.\n",
      "\tSkipping Hessian update for step 1.\n",
      "\tChange in internal coordinate of 7.97e-01 exceeds limit of 5.00e-01.\n",
      "\tSkipping Hessian update for step 4.\n",
      "\tChange in internal coordinate of 9.29e-01 exceeds limit of 5.00e-01.\n",
      "\tSkipping Hessian update for step 3.\n",
      "\tChange in internal coordinate of 1.25e+00 exceeds limit of 5.00e-01.\n",
      "\tSkipping Hessian update for step 2.\n",
      "\tChange in internal coordinate of 1.26e+00 exceeds limit of 5.00e-01.\n",
      "\tSkipping Hessian update for step 1.\n",
      "\tEnergy has increased in a minimization.\n",
      "\tEnergy ratio indicates iffy step.\n",
      "\tIntrafrag trust radius decreased to   0.25.\n",
      "\tChange in internal coordinate of 6.70e-01 exceeds limit of 5.00e-01.\n",
      "\tSkipping Hessian update for step 4.\n",
      "\tChange in internal coordinate of 8.02e-01 exceeds limit of 5.00e-01.\n",
      "\tSkipping Hessian update for step 3.\n",
      "\tChange in internal coordinate of 1.13e+00 exceeds limit of 5.00e-01.\n",
      "\tSkipping Hessian update for step 2.\n",
      "\tChange in internal coordinate of 1.14e+00 exceeds limit of 5.00e-01.\n",
      "\tSkipping Hessian update for step 1.\n",
      "\tChange in internal coordinate of 6.26e-01 exceeds limit of 5.00e-01.\n",
      "\tSkipping Hessian update for step 4.\n",
      "\tChange in internal coordinate of 7.57e-01 exceeds limit of 5.00e-01.\n",
      "\tSkipping Hessian update for step 3.\n",
      "\tChange in internal coordinate of 1.08e+00 exceeds limit of 5.00e-01.\n",
      "\tSkipping Hessian update for step 2.\n",
      "\tChange in internal coordinate of 1.10e+00 exceeds limit of 5.00e-01.\n",
      "\tSkipping Hessian update for step 1.\n",
      "\tEnergy has increased in a minimization.\n",
      "\tEnergy ratio indicates iffy step.\n",
      "\tIntrafrag trust radius decreased to 0.0625.\n",
      "\tPrevious geometry is closer to target in internal coordinates, so using that one.\n",
      "\n",
      "\tBest geometry has RMS(Delta(q)) = 2.64e-04\n",
      "\n",
      "\tEnergy has increased in a minimization.\n",
      "\tEnergy ratio indicates iffy step.\n",
      "\tIntrafrag trust radius decreased to 0.0469.\n",
      "\tPrevious geometry is closer to target in internal coordinates, so using that one.\n",
      "\n",
      "\tBest geometry has RMS(Delta(q)) = 1.00e-05\n",
      "\n",
      "\tPrevious geometry is closer to target in internal coordinates, so using that one.\n",
      "\n",
      "\tBest geometry has RMS(Delta(q)) = 5.17e-06\n",
      "\n",
      "\tPrevious geometry is closer to target in internal coordinates, so using that one.\n",
      "\n",
      "\tBest geometry has RMS(Delta(q)) = 2.45e-06\n",
      "\n"
     ]
    },
    {
     "name": "stdout",
     "output_type": "stream",
     "text": [
      "Optimizer: Optimization complete!\n",
      "最適化完了！ 最終エネルギー = -644.963886 Hartree\n"
     ]
    }
   ],
   "source": [
    "# 計算レベルを指定\n",
    "level = 'hf/6-31g(d)'\n",
    "\n",
    "# 最適化を実行（エネルギーと波動関数オブジェクトを取得）\n",
    "energy, wfn = psi4.optimize(level, \n",
    "                            molecule=molecule, \n",
    "                            return_wfn=True\n",
    "                            )\n",
    "\n",
    "print(f\"最適化完了！ 最終エネルギー = {energy:.6f} Hartree\")"
   ]
  },
  {
   "cell_type": "code",
   "execution_count": 9,
   "id": "2d68d8a9",
   "metadata": {},
   "outputs": [
    {
     "ename": "AttributeError",
     "evalue": "'psi4.core.Molecule' object has no attribute 'atoms'",
     "output_type": "error",
     "traceback": [
      "\u001b[1;31m---------------------------------------------------------------------------\u001b[0m",
      "\u001b[1;31mAttributeError\u001b[0m                            Traceback (most recent call last)",
      "Cell \u001b[1;32mIn[9], line 10\u001b[0m\n\u001b[0;32m      7\u001b[0m log_file\u001b[38;5;241m.\u001b[39mwrite(\u001b[38;5;124mf\u001b[39m\u001b[38;5;124m\"\u001b[39m\u001b[38;5;124m0 1\u001b[39m\u001b[38;5;130;01m\\n\u001b[39;00m\u001b[38;5;124m\"\u001b[39m)  \u001b[38;5;66;03m# (電荷、スピン多重度)\u001b[39;00m\n\u001b[0;32m      9\u001b[0m \u001b[38;5;66;03m# 原子の座標\u001b[39;00m\n\u001b[1;32m---> 10\u001b[0m \u001b[38;5;28;01mfor\u001b[39;00m i, atom \u001b[38;5;129;01min\u001b[39;00m \u001b[38;5;28menumerate\u001b[39m(\u001b[43mmolecule\u001b[49m\u001b[38;5;241;43m.\u001b[39;49m\u001b[43matoms\u001b[49m()):  \u001b[38;5;66;03m# インデックスを使ってループ\u001b[39;00m\n\u001b[0;32m     11\u001b[0m     atom_pos \u001b[38;5;241m=\u001b[39m molecule\u001b[38;5;241m.\u001b[39mxyz()  \u001b[38;5;66;03m# 全原子の座標を取得\u001b[39;00m\n\u001b[0;32m     12\u001b[0m     log_file\u001b[38;5;241m.\u001b[39mwrite(\u001b[38;5;124mf\u001b[39m\u001b[38;5;124m\"\u001b[39m\u001b[38;5;132;01m{\u001b[39;00matom\u001b[38;5;241m.\u001b[39msymbol()\u001b[38;5;132;01m:\u001b[39;00m\u001b[38;5;124m<2\u001b[39m\u001b[38;5;132;01m}\u001b[39;00m\u001b[38;5;124m \u001b[39m\u001b[38;5;132;01m{\u001b[39;00matom_pos[i][\u001b[38;5;241m0\u001b[39m]\u001b[38;5;132;01m:\u001b[39;00m\u001b[38;5;124m.6f\u001b[39m\u001b[38;5;132;01m}\u001b[39;00m\u001b[38;5;124m \u001b[39m\u001b[38;5;132;01m{\u001b[39;00matom_pos[i][\u001b[38;5;241m1\u001b[39m]\u001b[38;5;132;01m:\u001b[39;00m\u001b[38;5;124m.6f\u001b[39m\u001b[38;5;132;01m}\u001b[39;00m\u001b[38;5;124m \u001b[39m\u001b[38;5;132;01m{\u001b[39;00matom_pos[i][\u001b[38;5;241m2\u001b[39m]\u001b[38;5;132;01m:\u001b[39;00m\u001b[38;5;124m.6f\u001b[39m\u001b[38;5;132;01m}\u001b[39;00m\u001b[38;5;130;01m\\n\u001b[39;00m\u001b[38;5;124m\"\u001b[39m)\n",
      "File \u001b[1;32mc:\\Users\\japan\\anaconda3\\envs\\psi4\\lib\\site-packages\\psi4\\driver\\molutil.py:63\u001b[0m, in \u001b[0;36mmolecule_get_attr\u001b[1;34m(self, name)\u001b[0m\n\u001b[0;32m     60\u001b[0m     fxn \u001b[38;5;241m=\u001b[39m \u001b[38;5;28mobject\u001b[39m\u001b[38;5;241m.\u001b[39m\u001b[38;5;21m__getattribute__\u001b[39m(\u001b[38;5;28mself\u001b[39m, \u001b[38;5;124m\"\u001b[39m\u001b[38;5;124mget_variable\u001b[39m\u001b[38;5;124m\"\u001b[39m)\n\u001b[0;32m     61\u001b[0m     \u001b[38;5;28;01mreturn\u001b[39;00m fxn(name)\n\u001b[1;32m---> 63\u001b[0m \u001b[38;5;28;01mreturn\u001b[39;00m \u001b[38;5;28;43mobject\u001b[39;49m\u001b[38;5;241;43m.\u001b[39;49m\u001b[38;5;21;43m__getattribute__\u001b[39;49m\u001b[43m(\u001b[49m\u001b[38;5;28;43mself\u001b[39;49m\u001b[43m,\u001b[49m\u001b[43m \u001b[49m\u001b[43mname\u001b[49m\u001b[43m)\u001b[49m\n",
      "\u001b[1;31mAttributeError\u001b[0m: 'psi4.core.Molecule' object has no attribute 'atoms'"
     ]
    }
   ],
   "source": [
    "# Gaussian View用の.logファイルを作成\n",
    "output_log = \"optimized_conformer_psi4.log\"\n",
    "with open(output_log, 'w') as log_file:\n",
    "    log_file.write(f\"%chk={output_log}\\n\")  # Gaussianチェックポイントファイル名\n",
    "    log_file.write(f\"# HF/6-31G(d) OPT\\n\\n\")\n",
    "    log_file.write(f\"Optimized Geometry for Molecule\\n\\n\")\n",
    "    log_file.write(f\"0 1\\n\")  # (電荷、スピン多重度)\n",
    "    \n",
    "    # 原子の座標\n",
    "    for i, atom in enumerate(molecule.atoms()):  # インデックスを使ってループ\n",
    "        atom_pos = molecule.xyz()  # 全原子の座標を取得\n",
    "        log_file.write(f\"{atom.symbol():<2} {atom_pos[i][0]:.6f} {atom_pos[i][1]:.6f} {atom_pos[i][2]:.6f}\\n\")\n",
    "    \n",
    "    log_file.write(\"\\n\")\n",
    "    log_file.write(f\"Final energy: {energy} Hartree\\n\")  # 最終エネルギー\n",
    "\n",
    "    # HOMO, LUMOのエネルギー\n",
    "    log_file.write(f\"HOMO energy: {homo} Hartree\\n\")\n",
    "    log_file.write(f\"LUMO energy: {lumo} Hartree\\n\")\n",
    "\n",
    "print(f\"Gaussian View 用の {output_log} ファイルが作成されました。\")"
   ]
  }
 ],
 "metadata": {
  "kernelspec": {
   "display_name": "psi4",
   "language": "python",
   "name": "python3"
  },
  "language_info": {
   "codemirror_mode": {
    "name": "ipython",
    "version": 3
   },
   "file_extension": ".py",
   "mimetype": "text/x-python",
   "name": "python",
   "nbconvert_exporter": "python",
   "pygments_lexer": "ipython3",
   "version": "3.10.16"
  }
 },
 "nbformat": 4,
 "nbformat_minor": 5
}
