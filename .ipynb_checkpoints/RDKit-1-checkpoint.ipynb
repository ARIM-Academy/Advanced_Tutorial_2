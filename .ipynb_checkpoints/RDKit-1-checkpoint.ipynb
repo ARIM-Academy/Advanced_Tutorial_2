{
 "cells": [
  {
   "cell_type": "markdown",
   "id": "4283b222",
   "metadata": {
    "editable": true,
    "slideshow": {
     "slide_type": ""
    },
    "tags": []
   },
   "source": [
    "# ARIM-Academy：　基礎編　RDKitの基本操作"
   ]
  },
  {
   "cell_type": "markdown",
   "id": "a1132313",
   "metadata": {},
   "source": [
    "## 本編の目標\n",
    "\n",
    "RDKitにおける化学構造情報のファイル操作の基本となる\n",
    "\n",
    "1. **ファイルの読み取り**\n",
    "1. **分子構造の描画**\n",
    "1. **ファイルへの保存**\n",
    "\n",
    "の３つの操作について学びます。\n",
    "\n",
    "![メインイメージ](./img/image-1-2.png)"
   ]
  },
  {
   "cell_type": "markdown",
   "id": "faf5d61a",
   "metadata": {},
   "source": [
    "## 化学構造情報のフォーマット\n",
    "<div style=\"border:1px solid #000; padding:10px;\">\n",
    "以下は、代表的な化学情報表現のフォーマットの定義と使い方をまとめたものです。化学情報を文字列として表現する**文字列型**と、分子を構成する原子の位置情報を座標として含む**座標型**との二系統に分類されます。  赤字のフォーマットは機械学習等の化学情報処理では比較的に多用される化学構造情報です。\n",
    "\n",
    "![メインイメージ](./img/image-1-1.png)\n",
    "\n",
    "---\n",
    "\n",
    "## RDKitライブラリについて\n",
    "\n",
    "RDKitはPythonで使用されるオープンソースの化学情報処理のライブラリで、特に近年ではケモインフォマティクスにおける化学情報の取り扱いでは必ず用いられます。RDKitは分子の構造描画、特性の計算、データベースの操作のほか、インフォマティックスで必要となる記述子（ディスクリプタ）やフィンガープリントをサポートし、医薬品設計、材料科学などのマテリアル設計における機械学習モデルの研究開発において重要なツールとなっています。\n",
    "\n",
    "このパートではRDKitの基本となる化学情報の読み込み、変換、出力について一連の操作方法を学んで行きます。\n",
    "\n",
    "___\n",
    "\n",
    "**RDKitの強み**  \n",
    "RDKitは分子の構造から特性を計算するための多くの関数やアルゴリズムを実装しています。また、化学反応の予測や合成経路の設計など、さまざまな化学的なタスクをサポートしています。化学分野で一般的なChemDrawと比較すると、RDKitはプログラミングに基づいたアプローチを取っており、自動化や大規模なデータ処理に適していることが特徴です。\n",
    "\n",
    "**RDKitの弱み**  \n",
    "RDKitそのものは分子構造を画面上からインターラクティブに描くDraw機能は有してはいません。ChemDrawは直感的なユーザーインターフェースを通じて分子を作成し、編集するための強力な機能を提供しますが、そのようなことはRDKitでは行えません。\n",
    "\n",
    "もう一つのRDKitを利用する場合の留意点としては、RDKitはChemDrawファイル（.cdxファイル）を直接的に読み込むことはできません。化合物情報の読み込みは、主にSMILES表記やMOLファイルなどのテキストベースの化学情報表現を処理するために設計されています。\n",
    "\n",
    "___\n",
    "\n",
    "## ChemDrawファイルをRDKitで使用するためには  \n",
    "ChemDrawファイルをRDKitが読み込める形式に変換する必要があります。\n",
    "\n",
    "* ChemDraw自体にはエクスポート機能を利用します。例えば、RDKitでサポートされているフォーマット（SDF、MOL、MOL2など）に変換します。\n",
    "* オープンソースの**Open babel**を利用して.cdxファイルを変換することができます。\n",
    "\n",
    " ___"
   ]
  },
  {
   "cell_type": "markdown",
   "id": "3a7333e8",
   "metadata": {},
   "source": [
    "### 教材への接続\n",
    "google colabにおけるオンラインの場合にこのラインを実行します。（<font color=\"red\">Google colabに接続しない場合には不要</font>）"
   ]
  },
  {
   "cell_type": "code",
   "execution_count": null,
   "id": "44820b2d",
   "metadata": {},
   "outputs": [],
   "source": [
    "!pip install rdkit\n",
    "!git clone https://github.com/ARIM-Academy/Advanced_Tutorial_2.git\n",
    "%cd Advanced_Tutorial_2"
   ]
  },
  {
   "cell_type": "markdown",
   "id": "7802edd7",
   "metadata": {},
   "source": [
    "### ライブラリのインポート\n",
    "RDkitでコンフォーマーサーチを行うためのpythonのライブラリをimport文でロードします。\n",
    "化学情報として分子構造の読み込みに関する機能は、RDKitの`Chem`モジュールにツール群が含まれています。  \n",
    "はじめに`Chem`モジュールをpythonの`import`機能でインポートします。"
   ]
  },
  {
   "cell_type": "code",
   "execution_count": 1,
   "id": "2e10ccac",
   "metadata": {},
   "outputs": [],
   "source": [
    "from rdkit import Chem"
   ]
  },
  {
   "cell_type": "markdown",
   "id": "e4449113",
   "metadata": {},
   "source": [
    "### 1.MOLファイルからの読み込み手順\n",
    "\n",
    "このセクションでは、初心者にもわかりやすく、解熱鎮痛剤のアセチルサリチル酸（アスピリン）を例にして、MOL形式ファイルからデータを読み込む方法を紹介します。\n",
    "\n",
    "MOL形式ファイルは、オープンな化学データベース（例：ChemSpider）や試薬メーカーなどから入手できます。具体的な例として、以下のChemSpiderのリンクからアスピリンのMOLファイルをダウンロードしてみましょう。\n",
    "[ChemSpider - Aspirin MOLファイル](https://www.chemspider.com/Chemical-Structure.2157.html?rid=e668649a-f75f-4644-8419-29e064351376)\n",
    "\n",
    "次に、ダウンロードしたaspirin.molとしてMOLファイルは、[data]という名前のフォルダに保存されていることを想定しています。これを前提に進めていきましょう。"
   ]
  },
  {
   "cell_type": "code",
   "execution_count": 4,
   "id": "e7e51022",
   "metadata": {},
   "outputs": [],
   "source": [
    "#fileの相対パスを定義\n",
    "file ='data/aspirin.mol'\n",
    "\n",
    "#fileの読み込み\n",
    "mol_aspirin = Chem.MolFromMolFile(file)"
   ]
  },
  {
   "cell_type": "code",
   "execution_count": 5,
   "id": "79aa1ac4-a80b-40cc-aa33-861e25456b92",
   "metadata": {},
   "outputs": [
    {
     "data": {
      "image/png": "[encoded data removed]",
      "text/plain": [
       "<rdkit.Chem.rdchem.Mol at 0x20d6ab41070>"
      ]
     },
     "execution_count": 5,
     "metadata": {},
     "output_type": "execute_result"
    }
   ],
   "source": [
    "mol_aspirin"
   ]
  },
  {
   "cell_type": "markdown",
   "id": "c8c7c9fd",
   "metadata": {},
   "source": [
    "【解説】  **`Chem.MolFromMolFile()`** メソッド    \n",
    "`Chem.MolFromMolFile`メソッドは、MOLファイルからRDKitの<font color=\"Red\">**Molオブジェクト**</font>を作成するために使用されます。このMolオブジェクトは、分子の構造と属性を表現するための原子や結合の情報、立体情報、分子の特性などを保持しています。Molオブジェクトを使うことで、分子構造の解析や変換、また後述するフィンガープリントの分子の計算など、様々な分子情報処理の操作をメソッドを通じて行うことができます。\n",
    "\n",
    "以下は、`Chem.MolFromMolFile`メソッドの基本的な使用例です。\n",
    "\n",
    "~~~python\n",
    "from rdkit import Chem\n",
    "mol = Chem.MolFromMolFile('input.mol')\n",
    "~~~\n",
    "\n",
    "MOLファイルが不正確なフォーマットやエラーがある場合、メソッドは適切なエラーメッセージを返すか、`None`を返す場合があります。"
   ]
  },
  {
   "cell_type": "markdown",
   "id": "62f94704",
   "metadata": {},
   "source": [
    "### 1.2 SMILES形式から読み込みの場合\n",
    "アスピリンの**SMILES(Simplified Molecular Input Line Entry System**による表記は\"CC(OC1=C(C(=O)O)C=CC=C1)=O\"となります。そのSMILESをRDKitに読み込ませる方法は、以下のように`MolFromSmiles`メソッドを用いて行います。"
   ]
  },
  {
   "cell_type": "code",
   "execution_count": 6,
   "id": "9eee4222",
   "metadata": {},
   "outputs": [],
   "source": [
    "#アスピリンのSMILESを定義\n",
    "smiles = \"CC(OC1=C(C(=O)O)C=CC=C1)=O\"\n",
    "\n",
    "smiles_aspirin = Chem.MolFromSmiles(smiles)"
   ]
  },
  {
   "cell_type": "code",
   "execution_count": 7,
   "id": "a1cc02fa-4f95-4cc8-839c-1e36dbc913fa",
   "metadata": {},
   "outputs": [
    {
     "data": {
      "image/png": "[encoded data removed]",
      "text/plain": [
       "<rdkit.Chem.rdchem.Mol at 0x20d6ab41380>"
      ]
     },
     "execution_count": 7,
     "metadata": {},
     "output_type": "execute_result"
    }
   ],
   "source": [
    "smiles_aspirin"
   ]
  },
  {
   "cell_type": "markdown",
   "id": "77d53f0f",
   "metadata": {},
   "source": [
    "【解説】 **`Chem.MolFromSmiles()`** メソッド  \n",
    "`Chem.MolFromSmiles`メソッドは、SMILES（Simplified Molecular Input Line Entry System）形式の文字列を受け取り、それをRDKitのMolオブジェクトに変換します。\n",
    "\n",
    "以下は、`Chem.MolFromSmiles`メソッドの基本的な使い方の例です。\n",
    "\n",
    "```python\n",
    "from rdkit import Chem\n",
    "\n",
    "smiles = \"CC(=O)Oc1ccccc1C(=O)O\"\n",
    "mol = Chem.MolFromSmiles(smiles)\n",
    "```\n",
    "与えられたSMILES文字列が無効な場合や解析できない場合にはメソッドは適切なエラーメッセージを返します。"
   ]
  },
  {
   "cell_type": "markdown",
   "id": "54fafb3a-b9cd-40ad-9638-e3ae170a6809",
   "metadata": {},
   "source": [
    "### 1.3 Canonical SMILES（正規化された分子表現）\n",
    "**Canonical SMILES（正規化された分子表現）**　とは化学物質の構造をテキストで一義的に表現するための正規化表現であり、異なる表現方法においても同じ構造に対して同じSMILESが生成される分子表現です。RDKitでは生成されるSMILESは**canonical SMILES**となります。  \n",
    "\n",
    "例として、ピリジンの三つの異なるSMILES構造でRDKitに読み込ませた戻し値を見てみましょう。いずれも、\"c1ccncc1\"となっており、RDKitでは正規化表現となっていることが確認できます。\n",
    "\n",
    "<img src=\"./img/pyridine.png\" width=\"10%\">"
   ]
  },
  {
   "cell_type": "code",
   "execution_count": 8,
   "id": "2fb22398-0ca7-4f98-a383-192564a8546b",
   "metadata": {},
   "outputs": [
    {
     "data": {
      "text/plain": [
       "'c1ccncc1'"
      ]
     },
     "execution_count": 8,
     "metadata": {},
     "output_type": "execute_result"
    }
   ],
   "source": [
    "# ケース１\n",
    "smiles1 ='C1=CC=CN=C1'\n",
    "\n",
    "mol1 =Chem.MolFromSmiles(smiles1)\n",
    "Chem.MolToSmiles(mol1)"
   ]
  },
  {
   "cell_type": "code",
   "execution_count": 9,
   "id": "8b4c43e7-676a-4abc-b608-4295b8706cc5",
   "metadata": {},
   "outputs": [
    {
     "data": {
      "text/plain": [
       "'c1ccncc1'"
      ]
     },
     "execution_count": 9,
     "metadata": {},
     "output_type": "execute_result"
    }
   ],
   "source": [
    "# ケース2\n",
    "smiles2 ='c1cccnc1'\n",
    "\n",
    "mol2 =Chem.MolFromSmiles(smiles1)\n",
    "Chem.MolToSmiles(mol2)"
   ]
  },
  {
   "cell_type": "code",
   "execution_count": 10,
   "id": "c337edfb-682e-44f9-b4dc-33d13810f58c",
   "metadata": {},
   "outputs": [
    {
     "data": {
      "text/plain": [
       "'c1ccncc1'"
      ]
     },
     "execution_count": 10,
     "metadata": {},
     "output_type": "execute_result"
    }
   ],
   "source": [
    "# ケース3\n",
    "smiles3 ='n1ccccc1'\n",
    "\n",
    "mol3 =Chem.MolFromSmiles(smiles3)\n",
    "Chem.MolToSmiles(mol3)"
   ]
  },
  {
   "cell_type": "markdown",
   "id": "86b95594",
   "metadata": {},
   "source": [
    "### 1.4 SDFファイルからの読み込みの場合\n",
    "SDF（Structure-Data File）はMOLフォーマットが複数含まれる形式となっています。ファイル拡張子としては.sdfとなっていることが多いでしょう。このファイルの場合`SDMolSupplier`メソッドを使って以下のように読み込みます。"
   ]
  },
  {
   "cell_type": "code",
   "execution_count": 11,
   "id": "434cb4b0",
   "metadata": {},
   "outputs": [
    {
     "data": {
      "text/plain": [
       "<rdkit.Chem.rdmolfiles.SDMolSupplier at 0x20d6ab6aed0>"
      ]
     },
     "execution_count": 11,
     "metadata": {},
     "output_type": "execute_result"
    }
   ],
   "source": [
    "#アスピリンのsdfファイルの相対パス\n",
    "file ='data/aspirin.sdf'\n",
    "\n",
    "sdf_aspirin = Chem.SDMolSupplier(file)\n",
    "sdf_aspirin"
   ]
  },
  {
   "cell_type": "markdown",
   "id": "352829fb-922b-45a0-8d8d-862f24f78f9c",
   "metadata": {},
   "source": [
    "\n",
    "SDF（Structure-Data File）の場合、取り込まれた情報は、メモリ内のオブジェクトのアドレスを返します  \n",
    "。Pythonの専門用語で言うと、このオブジェクトは「イテレータ」と呼ばれます「イテレータ」はリストと同じく、要素を指定することで個別に呼び出すことができます。。"
   ]
  },
  {
   "cell_type": "code",
   "execution_count": 12,
   "id": "9fab9b53-563c-4862-86c1-b9b3d776ee81",
   "metadata": {},
   "outputs": [
    {
     "data": {
      "image/png": "[encoded data removed]",
      "text/html": [
       "<table><tr><td colspan=\"2\" style=\"text-align: center;\"><image src=\"data:image/png;base64,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\"></td></tr>\n",
       "<tr><th style=\"text-align: right\">StdInChI</th><td style=\"text-align: left\">InChI=1S/C9H8O4/c1-6(10)13-8-5-3-2-4-7(8)9(11)12/h2-5H,1H3,(H,11,12)</td></tr>\n",
       "<tr><th style=\"text-align: right\">StdInChIKey</th><td style=\"text-align: left\">BSYNRYMUTXBXSQ-UHFFFAOYSA-N</td></tr>\n",
       "<tr><th style=\"text-align: right\">AuxInfo</th><td style=\"text-align: left\">1/1/N:1,8,7,9,6,2,10,5,11,3,12,13,4/E:(11,12)/rA:13nCCOOCCCCCCCOO/rB:s1;d2;s2;s4;s5;d6;s7;d8;d5s9;s10;s11;d11;/rC:4.4977,-3.4633,0;3.9985,-2.5997,0;4.4977,-1.7317,0;3,-2.5997,0;2.5008,-1.7317,0;3,-.868,0;2.5008,0,0;1.4977,0,0;.9985,-.868,0;1.4977,-1.7317,0;.9985,-2.5997,0;0,-2.5997,0;1.4977,-3.4633,0;</td></tr>\n",
       "<tr><th style=\"text-align: right\">Formula</th><td style=\"text-align: left\">C9 H8 O4</td></tr>\n",
       "<tr><th style=\"text-align: right\">Mw</th><td style=\"text-align: left\">180.1574</td></tr>\n",
       "<tr><th style=\"text-align: right\">SMILES</th><td style=\"text-align: left\">CC(OC1=C(C(=O)O)C=CC=C1)=O</td></tr>\n",
       "<tr><th style=\"text-align: right\">CSID</th><td style=\"text-align: left\">2157</td></tr></table>"
      ],
      "text/plain": [
       "<rdkit.Chem.rdchem.Mol at 0x20d6ab41a80>"
      ]
     },
     "execution_count": 12,
     "metadata": {},
     "output_type": "execute_result"
    }
   ],
   "source": [
    "# sdfの最初の要素の呼び出し\n",
    "sdf_aspirin[0]"
   ]
  },
  {
   "cell_type": "code",
   "execution_count": 13,
   "id": "5300da25-d15d-451b-94f5-f5079e6ae401",
   "metadata": {},
   "outputs": [
    {
     "data": {
      "image/png": "[encoded data removed]",
      "text/plain": [
       "<rdkit.Chem.rdchem.Mol at 0x20d6ab41e00>"
      ]
     },
     "execution_count": 13,
     "metadata": {},
     "output_type": "execute_result"
    }
   ],
   "source": [
    "# sdfの2番目の要素の呼び出し\n",
    "sdf_aspirin[1]"
   ]
  },
  {
   "cell_type": "markdown",
   "id": "d93e1a8e",
   "metadata": {},
   "source": [
    "【解説】　**`SDMolSupplier`**　メソッド　　   \n",
    "`SDMolSupplier`メソッド は、RDKitでSDF（Structure-Data File）形式のファイルを読み込みます。`SDMolSupplier`メソッドはイテレータとして機能し、ファイルから分子を順番に読み込むことができます。各分子の化学情報はMolオブジェクトとして提供されます。\n",
    "\n",
    "以下は、`SDMolSupplier`メソッドの基本的な使い方を示す例です。\n",
    "\n",
    "```python\n",
    "from rdkit import Chem\n",
    "supplier = Chem.SDMolSupplier('input.sdf')\n",
    "\n",
    "for m in supplier:\n",
    "    if m is not None:\n",
    "        # 分子の処理\n",
    "        print(Chem.MolToSmiles(m))\n",
    "```\n",
    "\n",
    "この例では、'input.sdf'というSDFファイルを`SDMolSupplier`で読み込みます。イテレータとして使われるため、`for`ループ内で分子を一つずつ取得することができます。\n",
    "\n",
    "取得した分子は、`m`変数に格納されます。ただし、一部の分子は正しく読み込むことができない場合がある時には、適切なエラーメッセージを返します。"
   ]
  },
  {
   "cell_type": "markdown",
   "id": "5ced18d5-e83d-4727-bd2a-3ccdc7095c13",
   "metadata": {},
   "source": [
    "### 【Tips】sdfから連続的/逐次的に分子を呼び出す方法\n",
    "イテレータを効果的に処理する最も一般的な方法は次の2通りの方法があります。\n",
    "- forループ\n",
    "- next関数\n",
    "\n",
    "#### forループの場合\n",
    "forループを使用することでデータの反復処理が効率的に行えます。"
   ]
  },
  {
   "cell_type": "code",
   "execution_count": 14,
   "id": "11a4db13",
   "metadata": {},
   "outputs": [
    {
     "name": "stdout",
     "output_type": "stream",
     "text": [
      "CC(=O)Oc1ccccc1C(=O)O\n",
      "CCOC(=O)c1ccccc1OC(C)=O\n"
     ]
    }
   ],
   "source": [
    "for x in sdf_aspirin:\n",
    "    print(Chem.MolToSmiles(x))"
   ]
  },
  {
   "cell_type": "markdown",
   "id": "9b26e7d6-f474-46f5-a4c2-563bd23a0d0e",
   "metadata": {},
   "source": [
    "#### next関数の場合\n",
    "イテレータに格納されている情報を読み出す別方法としては、逐次的に要素読み出す`next` 関数を使うことができます。`next` 関数数で初めて呼び出されるとイテレータは最初の要素を返し次に進みます。要素がなくなると `StopIteration` 例外が発生します。 "
   ]
  },
  {
   "cell_type": "code",
   "execution_count": 15,
   "id": "4648887d-bba7-481f-8894-d3eca120f2ac",
   "metadata": {},
   "outputs": [],
   "source": [
    "sdf2 = Chem.SDMolSupplier(file)"
   ]
  },
  {
   "cell_type": "code",
   "execution_count": 16,
   "id": "f8f7a575-acb4-442f-bbb4-35702bac1ef6",
   "metadata": {},
   "outputs": [
    {
     "name": "stdout",
     "output_type": "stream",
     "text": [
      "CC(=O)Oc1ccccc1C(=O)O\n"
     ]
    }
   ],
   "source": [
    "# 最初の化合物を呼び出します。\n",
    "y = next(sdf2)\n",
    "print(Chem.MolToSmiles(y))"
   ]
  },
  {
   "cell_type": "code",
   "execution_count": 17,
   "id": "c6523c54-8ccd-46da-914c-13e0cb0ef9b7",
   "metadata": {},
   "outputs": [
    {
     "name": "stdout",
     "output_type": "stream",
     "text": [
      "CCOC(=O)c1ccccc1OC(C)=O\n"
     ]
    }
   ],
   "source": [
    "# 2つめの化合物を呼び出します。\n",
    "y = next(sdf2)\n",
    "print(Chem.MolToSmiles(y))"
   ]
  },
  {
   "cell_type": "code",
   "execution_count": 18,
   "id": "32f7ddd8-9471-4c2b-8d25-39e54f34b252",
   "metadata": {},
   "outputs": [
    {
     "ename": "StopIteration",
     "evalue": "End of supplier hit",
     "output_type": "error",
     "traceback": [
      "\u001b[1;31m---------------------------------------------------------------------------\u001b[0m",
      "\u001b[1;31mStopIteration\u001b[0m                             Traceback (most recent call last)",
      "Cell \u001b[1;32mIn[18], line 2\u001b[0m\n\u001b[0;32m      1\u001b[0m \u001b[38;5;66;03m# 3回目ではすでに要素がないためStopIterationが発生します\u001b[39;00m\n\u001b[1;32m----> 2\u001b[0m y \u001b[38;5;241m=\u001b[39m \u001b[38;5;28;43mnext\u001b[39;49m\u001b[43m(\u001b[49m\u001b[43msdf2\u001b[49m\u001b[43m)\u001b[49m\n\u001b[0;32m      3\u001b[0m \u001b[38;5;28mprint\u001b[39m(Chem\u001b[38;5;241m.\u001b[39mMolToSmiles(y))\n",
      "\u001b[1;31mStopIteration\u001b[0m: End of supplier hit"
     ]
    }
   ],
   "source": [
    "# 3回目ではすでに要素がないためStopIterationが発生します\n",
    "y = next(sdf2)\n",
    "print(Chem.MolToSmiles(y))"
   ]
  },
  {
   "cell_type": "markdown",
   "id": "ca9818ff",
   "metadata": {},
   "source": [
    "## 2. 分子構造の表示・可視化\n",
    "読み込んだ分子の描画は`Chem`モジュールの配下にある`Draw`サブモジュールにツール群がまとめられいます。その`Draw`モジュールをimportします。なお、Jupyter Notebookでの描画はDrawモジュールに含まれている`IPythonConsole`をあらかじめインポートしておくとラインに表示されます。"
   ]
  },
  {
   "cell_type": "code",
   "execution_count": 19,
   "id": "674f456b",
   "metadata": {},
   "outputs": [],
   "source": [
    "from rdkit.Chem import Draw\n",
    "from rdkit.Chem.Draw import IPythonConsole"
   ]
  },
  {
   "cell_type": "markdown",
   "id": "f4549459",
   "metadata": {},
   "source": [
    "### 単一の分子を表示\n",
    "\n",
    "ここでは例として無水フタル酸を化学情報として表示する例で説明を進めます。"
   ]
  },
  {
   "cell_type": "code",
   "execution_count": 20,
   "id": "b2793d54",
   "metadata": {},
   "outputs": [],
   "source": [
    "#無水フタル酸のMolオブジェクト化\n",
    "\n",
    "smiles = \"O=C(OC(=O)c1cccc2)c12\"\n",
    "phthalic_anhydride = Chem.MolFromSmiles(smiles)"
   ]
  },
  {
   "cell_type": "markdown",
   "id": "7db24ed8-8883-4fc5-a739-77200dd9c965",
   "metadata": {},
   "source": [
    "molオブジェクトの可視化は、下記のように`MolToImage`メソッドで表示されます。　　\n",
    "\n",
    "【注意】なお、Jupyter Notebookでは、`Chem.Draw`モジュールの`IPythonConsole`をインポートさせておくことでRDKitモジュールが正しくインストールされている場合、`Mol`オブジェクトを直接表示することもできます。`Mol`オブジェクトの表示には、RDKitが組み込みのJupyter拡張機能を使用しているため、追加のコードは必要ありません。"
   ]
  },
  {
   "cell_type": "code",
   "execution_count": 22,
   "id": "93195e70",
   "metadata": {},
   "outputs": [],
   "source": [
    "img = Draw.MolToImage(phthalic_anhydride)"
   ]
  },
  {
   "cell_type": "code",
   "execution_count": 23,
   "id": "5d412db3-d19c-4b70-8f15-6a8bc03f83d5",
   "metadata": {},
   "outputs": [
    {
     "data": {
      "image/jpeg": "[encoded data removed]",
      "image/png": "[encoded data removed]",
      "text/plain": [
       "<PIL.PngImagePlugin.PngImageFile image mode=RGB size=300x300>"
      ]
     },
     "execution_count": 23,
     "metadata": {},
     "output_type": "execute_result"
    }
   ],
   "source": [
    "img"
   ]
  },
  {
   "cell_type": "markdown",
   "id": "4ceff16a",
   "metadata": {},
   "source": [
    "【解説】 **`MolToImage`** メソッド    \n",
    "`MolToImage`メソッド は、RDKitの`Mol`オブジェクトを描画するために使用されます。以下は、`MolToImage`メソッドの基本的な使用例です。\n",
    "\n",
    "```python\n",
    "from rdkit import Chem\n",
    "from rdkit.Chem import Draw\n",
    "\n",
    "mol = Chem.MolFromSmiles('CCO')\n",
    "img = Draw.MolToImage(mol)\n",
    "img.show()\n",
    "```\n",
    "\n",
    "このコードでは、SMILES表記法で指定された分子を`MolFromSmiles`メソッドを使用して作成し、`MolToImage`メソッドから分子を描画します。なお、`MolToImage`メソッドはPIL（Python Imaging Library）の画像オブジェクトを返します。これより、`img.show`メソッドを使用することで画像が表示されます。"
   ]
  },
  {
   "cell_type": "markdown",
   "id": "a44df0e0",
   "metadata": {},
   "source": [
    "### 複数の分子をまとめて表示\n",
    "次に複数分子の表示について説明します。MOLファイルやSMILESからmolオブジェクト化されていれば、それを`Draw.MolsToGridImage`メソッドで複数の分子を格子状に配置して描画することができます。以下では無水フタル酸とフタル酸ジメチルの二つの分子を表示する方法です。"
   ]
  },
  {
   "cell_type": "code",
   "execution_count": 24,
   "id": "7133d9b4",
   "metadata": {},
   "outputs": [
    {
     "data": {
      "image/png": "[encoded data removed]",
      "text/plain": [
       "<rdkit.Chem.rdchem.Mol at 0x20d6b8dad50>"
      ]
     },
     "execution_count": 24,
     "metadata": {},
     "output_type": "execute_result"
    }
   ],
   "source": [
    "# 無水フタル酸\n",
    "smiles = \"O=C(OC(=O)c1cccc2)c12\"\n",
    "phthalic_anhydride = Chem.MolFromSmiles(smiles)\n",
    "phthalic_anhydride"
   ]
  },
  {
   "cell_type": "code",
   "execution_count": 25,
   "id": "f3918fdd",
   "metadata": {},
   "outputs": [
    {
     "data": {
      "image/png": "[encoded data removed]",
      "text/plain": [
       "<rdkit.Chem.rdchem.Mol at 0x20d6b8db060>"
      ]
     },
     "execution_count": 25,
     "metadata": {},
     "output_type": "execute_result"
    }
   ],
   "source": [
    "# フタル酸ジメチル\n",
    "dimethyl_phthalate = Chem.MolFromSmiles('O=C(OC)c(c(ccc1)C(=O)OC)c1')\n",
    "dimethyl_phthalate"
   ]
  },
  {
   "cell_type": "code",
   "execution_count": 26,
   "id": "581bfba3",
   "metadata": {},
   "outputs": [
    {
     "data": {
      "image/png": "[encoded data removed]",
      "text/plain": [
       "<IPython.core.display.Image object>"
      ]
     },
     "execution_count": 26,
     "metadata": {},
     "output_type": "execute_result"
    }
   ],
   "source": [
    "# 二つの分子をリスト配置\n",
    "mol_list =[phthalic_anhydride,dimethyl_phthalate]\n",
    "\n",
    "img2 = Draw.MolsToGridImage(mol_list, \n",
    "                            molsPerRow=2\n",
    "                           )\n",
    "\n",
    "img2"
   ]
  },
  {
   "cell_type": "markdown",
   "id": "927e0917",
   "metadata": {},
   "source": [
    "【解説】 **`MolsToGridImage`** メソッド \n",
    "\n",
    "`MolsToGridImage`メソッド は、複数のRDKitのMolオブジェクトをグリッド形式の画像として描画するために使用されます。以下は、`MolsToGridImage`メソッド の基本的な使用例です。\n",
    "\n",
    "```python\n",
    "from rdkit import Chem\n",
    "from rdkit.Chem import Draw\n",
    "\n",
    "mols = [Chem.MolFromSmiles('CCO'), Chem.MolFromSmiles('CNC'), Chem.MolFromSmiles('CCN')]\n",
    "img = Draw.MolsToGridImage(mols, molsPerRow=3)\n",
    "img.show()\n",
    "```\n",
    "\n",
    "`molsPerRow`パラメータは、1行あたりの分子の数を指定します。この例では、3つの分子が1行に表示されます。`MolsToGridImage`メソッドは、PIL（Python Imaging Library）の画像オブジェクトを返します。`img.show()`を使用することで、画像が表示されます。\n",
    "\n",
    "`MolsToGridImage`メソッド には、さまざまなオプションがあります。たとえば、`legends`パラメータを使用して各分子のキャプションを指定したり、`highlightAtomLists`や`highlightBondLists`パラメータを使用して特定の原子や結合をハイライトしたりすることもできます。さらに、出力画像のサイズやスケーリング、カラースキームなどもカスタマイズすることができます。"
   ]
  },
  {
   "cell_type": "markdown",
   "id": "bc6cc905",
   "metadata": {},
   "source": [
    "### 複数の分子をまとめて表示２\n",
    "続いては４つの分子についての表示例です。molsPerRow=3として横に３つの分子を配置します。"
   ]
  },
  {
   "cell_type": "code",
   "execution_count": 27,
   "id": "a149eb93",
   "metadata": {},
   "outputs": [
    {
     "data": {
      "image/png": "[encoded data removed]",
      "text/plain": [
       "<IPython.core.display.Image object>"
      ]
     },
     "execution_count": 27,
     "metadata": {},
     "output_type": "execute_result"
    }
   ],
   "source": [
    "# ４つの分子をリスト配置\n",
    "smiles = [\n",
    "    'CC(=O)Oc1ccccc1C(=O)O',\n",
    "    'O=C(OC(=O)c1cccc2)c12',\n",
    "    'O=C(OC)c(c(ccc1)C(=O)OC)c1',\n",
    "    'O=C(OC1CCCCC1)C2=C(C=CC=C2)C(OC3CCCCC3)=O'\n",
    "]\n",
    "\n",
    "mol_list = [Chem.MolFromSmiles(smi) for smi in smiles]\n",
    "\n",
    "Draw.MolsToGridImage(mol_list, \n",
    "                     molsPerRow=3, \n",
    "                     subImgSize=(400, 200)\n",
    "                    )"
   ]
  },
  {
   "cell_type": "markdown",
   "id": "5bf9d034",
   "metadata": {},
   "source": [
    "【解説】 **`subImgSize`** オプション\n",
    "\n",
    "`subImgSize`は、`MolsToGridImage`メソッドのオプションの一つであり、それぞれの分子のサイズを指定するために使用されます。このオプションには、(width, height)という2つの値を持つタプルを指定します。\n",
    "\n",
    " width:  それぞれの分子の横幅をピクセル単位で指定  \n",
    " height: それぞれの分子の縦幅をピクセル単位で指定  \n",
    "\n",
    "subImgSizeオプションにより、各分子のサイズを指定することで、描画される画像内での各分子の相対的な大きさを調整することができます。これにより、画像内の分子の配置や視覚的なバランスを調整することが可能です。"
   ]
  },
  {
   "cell_type": "markdown",
   "id": "c469a47e",
   "metadata": {},
   "source": [
    "## 3. 分子情報の保存\n",
    "RDKitを使用して構造情報などの分子情報を保存するには、基本としてMolオブジェクトからファイルに書き出す必要があります。  \n",
    "RDKitは複数のファイル形式に対応しており、一般的な形式としてはMOL、SMILES、SDFフォーマットのほか、PDBや画像ファイルのjpegフォーマットなども出力が可能です。"
   ]
  },
  {
   "cell_type": "markdown",
   "id": "04ca1553",
   "metadata": {},
   "source": [
    "### 3.1 MOLファイル形式で保存する場合：  \n",
    "`MolToMolFile`モジュールを使います。SMILES表記法からMolオブジェクトを作成し、`MolToMolFile`メソッドを使用してMOLファイルに保存しています。第1引数に保存する`Mol`オブジェクトを指定し、第2引数に保存するファイル名（ファイルパス）を指定します。"
   ]
  },
  {
   "cell_type": "code",
   "execution_count": 28,
   "id": "a4e94d57",
   "metadata": {},
   "outputs": [],
   "source": [
    "smiles = \"CC(OC1=C(C(=O)O)C=CC=C1)=O\"\n",
    "mol = Chem.MolFromSmiles(smiles)\n",
    "\n",
    "#MOLファイルへの保存\n",
    "save_file ='./output/aspirin_rdkit.mol'\n",
    "Chem.MolToMolFile(mol, save_file)"
   ]
  },
  {
   "cell_type": "markdown",
   "id": "c89945da",
   "metadata": {},
   "source": [
    "### 3.2 SMILES形式で保存する場合：\n",
    "SMILES表記は既に文字列であるため、Pythonの標準組み込み関数であるopen関数の書き込みモードから`write`関数を用いて操作が行えます。"
   ]
  },
  {
   "cell_type": "code",
   "execution_count": 29,
   "id": "690f5e3d",
   "metadata": {},
   "outputs": [],
   "source": [
    "smiles = \"CC(OC1=C(C(=O)O)C=CC=C1)=O\"\n",
    "\n",
    "#MSMILESでの保存\n",
    "save_file = './output/aspirin_rdkit.smi'\n",
    "with open(save_file, 'w') as f:\n",
    "    f.write(smiles)"
   ]
  },
  {
   "cell_type": "markdown",
   "id": "069e8a41",
   "metadata": {},
   "source": [
    "### 3.3 SDFファイル形式で保存する場合：\n",
    "SMILES表記法からMolオブジェクトを作成し、`SDWriter`メソッドよりSDFファイルに保存しています。標準ライブラリの組み込こまれている`write`メソッドを使用してMolオブジェクトを書き込み、`close`メソッドを使用してファイルを閉じます。"
   ]
  },
  {
   "cell_type": "code",
   "execution_count": 30,
   "id": "0cf974e8",
   "metadata": {},
   "outputs": [],
   "source": [
    "smiles = \"CC(OC1=C(C(=O)O)C=CC=C1)=O\"\n",
    "mol = Chem.MolFromSmiles(smiles)\n",
    "\n",
    "# SDFフォーマットでの保存\n",
    "save_file = './output/aspirin_rdkit.sdf'\n",
    "writer = Chem.SDWriter(save_file)\n",
    "writer.write(mol)\n",
    "writer.close()"
   ]
  },
  {
   "cell_type": "markdown",
   "id": "b0ecd8be",
   "metadata": {},
   "source": [
    "### 3.4 PDBファイル形式で保存する場合：\n",
    "PDBの場合は`Chem.PDBWriter`メソッドに変更するだけで、上記のSDFと変わりません。同じく、`write`メソッドを使用してMolオブジェクトを書き込み、`close`メソッドを使用してファイルを閉じます。"
   ]
  },
  {
   "cell_type": "code",
   "execution_count": 31,
   "id": "f34b79f5",
   "metadata": {},
   "outputs": [],
   "source": [
    "smiles = \"CC(OC1=C(C(=O)O)C=CC=C1)=O\"\n",
    "mol = Chem.MolFromSmiles(smiles)\n",
    "\n",
    "# PDBフォーマットでの保存\n",
    "save_file = './output/aspirin_rdkit.pdb'\n",
    "writer = Chem.PDBWriter(save_file)\n",
    "writer.write(mol)\n",
    "writer.close()"
   ]
  },
  {
   "cell_type": "markdown",
   "id": "f8acb32d",
   "metadata": {},
   "source": [
    "### 3.5 画像形式で保存する場合（JupyterNotebookのみ）：\n",
    "png画像で保存する場合は、組み込み関数の`save`関数から次のように行えます。ただし、事前に`MolsToGridImage`メソッドで`returnPNG`オプションをFalseとしておくことが必要です。"
   ]
  },
  {
   "cell_type": "code",
   "execution_count": 32,
   "id": "6d731eca",
   "metadata": {},
   "outputs": [],
   "source": [
    "molecules = [phthalic_anhydride, dimethyl_phthalate]\n",
    "\n",
    "img = Draw.MolsToGridImage(molecules, \n",
    "                           molsPerRow=2,\n",
    "                           returnPNG=False\n",
    "                          )\n",
    "# imageの保存\n",
    "img.save('./output/molecules.jpg')"
   ]
  },
  {
   "cell_type": "markdown",
   "id": "73f98452",
   "metadata": {},
   "source": [
    "## RDKitの公式チュートリアル\n",
    "より詳しい操作などはRDKitの公式チュートリアルで学習することができます。\n",
    "https://github.com/rdkit/rdkit-tutorials"
   ]
  },
  {
   "cell_type": "code",
   "execution_count": null,
   "id": "d0b10b7f-dd0c-46c7-b485-9b5bf1394099",
   "metadata": {},
   "outputs": [],
   "source": []
  },
  {
   "cell_type": "code",
   "execution_count": null,
   "id": "81c4382c-684c-45a3-8c01-e22d692bd2ca",
   "metadata": {},
   "outputs": [],
   "source": []
  },
  {
   "cell_type": "code",
   "execution_count": null,
   "id": "b68412a4-ffc7-4705-b0ad-962bab737934",
   "metadata": {},
   "outputs": [],
   "source": []
  }
 ],
 "metadata": {
  "kernelspec": {
   "display_name": "Python 3 (ipykernel)",
   "language": "python",
   "name": "python3"
  },
  "language_info": {
   "codemirror_mode": {
    "name": "ipython",
    "version": 3
   },
   "file_extension": ".py",
   "mimetype": "text/x-python",
   "name": "python",
   "nbconvert_exporter": "python",
   "pygments_lexer": "ipython3",
   "version": "3.10.16"
  }
 },
 "nbformat": 4,
 "nbformat_minor": 5
}
