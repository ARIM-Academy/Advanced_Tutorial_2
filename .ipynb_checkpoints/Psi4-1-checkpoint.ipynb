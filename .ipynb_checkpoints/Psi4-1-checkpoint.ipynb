{
 "cells": [
  {
   "cell_type": "code",
   "execution_count": 1,
   "id": "9e9be75d-43cb-45bf-9d83-248c66cae098",
   "metadata": {},
   "outputs": [
    {
     "ename": "ModuleNotFoundError",
     "evalue": "No module named 'psi4'",
     "output_type": "error",
     "traceback": [
      "\u001b[1;31m---------------------------------------------------------------------------\u001b[0m",
      "\u001b[1;31mModuleNotFoundError\u001b[0m                       Traceback (most recent call last)",
      "Cell \u001b[1;32mIn[1], line 5\u001b[0m\n\u001b[0;32m      3\u001b[0m \u001b[38;5;28;01mimport\u001b[39;00m\u001b[38;5;250m \u001b[39m\u001b[38;5;21;01mnumpy\u001b[39;00m\u001b[38;5;250m \u001b[39m\u001b[38;5;28;01mas\u001b[39;00m\u001b[38;5;250m \u001b[39m\u001b[38;5;21;01mnp\u001b[39;00m\n\u001b[0;32m      4\u001b[0m \u001b[38;5;28;01mimport\u001b[39;00m\u001b[38;5;250m \u001b[39m\u001b[38;5;21;01mpandas\u001b[39;00m\u001b[38;5;250m \u001b[39m\u001b[38;5;28;01mas\u001b[39;00m\u001b[38;5;250m \u001b[39m\u001b[38;5;21;01mpd\u001b[39;00m\n\u001b[1;32m----> 5\u001b[0m \u001b[38;5;28;01mimport\u001b[39;00m\u001b[38;5;250m \u001b[39m\u001b[38;5;21;01mpsi4\u001b[39;00m\n\u001b[0;32m      6\u001b[0m \u001b[38;5;28;01mimport\u001b[39;00m\u001b[38;5;250m \u001b[39m\u001b[38;5;21;01msys\u001b[39;00m\n",
      "\u001b[1;31mModuleNotFoundError\u001b[0m: No module named 'psi4'"
     ]
    }
   ],
   "source": [
    "import os\n",
    "import datetime\n",
    "import numpy as np\n",
    "import pandas as pd\n",
    "import psi4\n",
    "import sys"
   ]
  },
  {
   "cell_type": "code",
   "execution_count": null,
   "id": "7d651f6d-0c98-42db-aecb-635106ebf7c1",
   "metadata": {},
   "outputs": [],
   "source": [
    "\n",
    "# XYZファイルを読み込んで、mol_inputを作成\n",
    "xyz_file = 'optimized_conformer_1.xyz'\n",
    "\n",
    "with open(xyz_file, 'r') as f:\n",
    "    lines = f.readlines()\n",
    "\n",
    "# 1行目（原子数）、2行目（コメント）はスキップ\n",
    "xyz_data = ''.join(lines[2:])\n",
    "\n",
    "# psi4.geometry()用にフォーマット（\"0 1\\n\" の後にxyz座標）\n",
    "mol_input = f\"\"\"0 1\n",
    "{xyz_data}\n",
    "\"\"\"\n",
    "\n",
    "# 分子オブジェクトを作成\n",
    "molecule = psi4.geometry(mol_input)\n",
    "\n",
    "# 計算レベルを指定\n",
    "level = 'b3lyp/6-31g(d)'\n",
    "\n",
    "# 最適化を実行（エネルギーと波動関数オブジェクトを取得）\n",
    "energy, wfn = psi4.optimize(level, molecule=molecule, return_wfn=True)\n",
    "\n",
    "print(f\"最適化完了！ 最終エネルギー = {energy:.6f} Hartree\")"
   ]
  }
 ],
 "metadata": {
  "kernelspec": {
   "display_name": "Python 3 (ipykernel)",
   "language": "python",
   "name": "python3"
  },
  "language_info": {
   "codemirror_mode": {
    "name": "ipython",
    "version": 3
   },
   "file_extension": ".py",
   "mimetype": "text/x-python",
   "name": "python",
   "nbconvert_exporter": "python",
   "pygments_lexer": "ipython3",
   "version": "3.10.16"
  }
 },
 "nbformat": 4,
 "nbformat_minor": 5
}
